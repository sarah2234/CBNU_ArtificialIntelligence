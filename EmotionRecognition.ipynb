{
  "cells": [
    {
      "cell_type": "markdown",
      "metadata": {
        "id": "view-in-github",
        "colab_type": "text"
      },
      "source": [
        "<a href=\"https://colab.research.google.com/github/sarah2234/CBNU_ArtificialIntelligence/blob/main/EmotionRecognition.ipynb\" target=\"_parent\"><img src=\"https://colab.research.google.com/assets/colab-badge.svg\" alt=\"Open In Colab\"/></a>"
      ]
    },
    {
      "cell_type": "code",
      "execution_count": 1,
      "metadata": {
        "id": "8ca79e4d"
      },
      "outputs": [],
      "source": [
        "import tensorflow as tf\n",
        "from tensorflow.keras.models import Sequential\n",
        "from tensorflow.keras.layers import Dense, Flatten, BatchNormalization, Dropout\n",
        "from tensorflow.keras.layers import Conv2D, MaxPooling2D, Input\n",
        "from tensorflow.keras.callbacks import EarlyStopping\n",
        "import cv2\n",
        "import os\n",
        "import matplotlib.pyplot as plt\n",
        "import numpy as np"
      ],
      "id": "8ca79e4d"
    },
    {
      "cell_type": "code",
      "execution_count": 2,
      "metadata": {
        "colab": {
          "base_uri": "https://localhost:8080/"
        },
        "id": "oIFhZpyJ3PVx",
        "outputId": "c58600b3-4ba4-48a1-e47a-67d50483143f"
      },
      "outputs": [
        {
          "output_type": "stream",
          "name": "stdout",
          "text": [
            "Mounted at /content/drive\n"
          ]
        }
      ],
      "source": [
        "from google.colab import drive\n",
        "drive.mount('/content/drive', force_remount=True)"
      ],
      "id": "oIFhZpyJ3PVx"
    },
    {
      "cell_type": "code",
      "execution_count": null,
      "metadata": {
        "colab": {
          "base_uri": "https://localhost:8080/"
        },
        "id": "msMMNYYP4f3H",
        "outputId": "4db7b98a-bdc3-4979-f0f5-9e81b1953d68"
      },
      "outputs": [
        {
          "name": "stdout",
          "output_type": "stream",
          "text": [
            "/content/drive/MyDrive/Colab Notebooks\n"
          ]
        }
      ],
      "source": [
        "%cd /content/drive/MyDrive/Colab Notebooks/\n",
        "\n",
        "!unzip -qq \"/content/drive/MyDrive/Colab Notebooks/FER-2013.zip\""
      ],
      "id": "msMMNYYP4f3H"
    },
    {
      "cell_type": "markdown",
      "metadata": {
        "id": "70ab4707"
      },
      "source": [
        "## 예시 이미지 화면에 띄우기"
      ],
      "id": "70ab4707"
    },
    {
      "cell_type": "code",
      "execution_count": 3,
      "metadata": {
        "id": "c8681d98"
      },
      "outputs": [],
      "source": [
        "img_array = cv2.imread(\"/content/drive/MyDrive/Colab Notebooks/FER-2013/train/angry/Training_34758750.jpg\") # no korean in path"
      ],
      "id": "c8681d98"
    },
    {
      "cell_type": "code",
      "execution_count": 4,
      "metadata": {
        "colab": {
          "base_uri": "https://localhost:8080/"
        },
        "id": "455e3ab8",
        "outputId": "48f10d74-0f61-4120-f118-3d0bc9ac26b9"
      },
      "outputs": [
        {
          "output_type": "execute_result",
          "data": {
            "text/plain": [
              "(48, 48, 3)"
            ]
          },
          "metadata": {},
          "execution_count": 4
        }
      ],
      "source": [
        "img_array.shape # rgb"
      ],
      "id": "455e3ab8"
    },
    {
      "cell_type": "code",
      "execution_count": 5,
      "metadata": {
        "colab": {
          "base_uri": "https://localhost:8080/",
          "height": 285
        },
        "id": "45ce4313",
        "outputId": "eee49f99-23db-4dd4-af4a-c8a0578000a4"
      },
      "outputs": [
        {
          "output_type": "execute_result",
          "data": {
            "text/plain": [
              "<matplotlib.image.AxesImage at 0x7f966dc80700>"
            ]
          },
          "metadata": {},
          "execution_count": 5
        },
        {
          "output_type": "display_data",
          "data": {
            "text/plain": [
              "<Figure size 432x288 with 1 Axes>"
            ],
            "image/png": "[encoded data removed]"
          },
          "metadata": {
            "needs_background": "light"
          }
        }
      ],
      "source": [
        "plt.imshow(img_array) # bgr"
      ],
      "id": "45ce4313"
    },
    {
      "cell_type": "code",
      "execution_count": 6,
      "metadata": {
        "id": "310fb1a2"
      },
      "outputs": [],
      "source": [
        "classes = [\"angry\", \"happy\", \"neutral\", \"sad\", \"surprise\"] # list of classes(exact name of folders)"
      ],
      "id": "310fb1a2"
    },
    {
      "cell_type": "code",
      "execution_count": 7,
      "metadata": {
        "colab": {
          "base_uri": "https://localhost:8080/",
          "height": 267
        },
        "id": "2d9c289c",
        "outputId": "2b9c127b-7848-47da-96a7-1cea8d284b5d"
      },
      "outputs": [
        {
          "output_type": "display_data",
          "data": {
            "text/plain": [
              "<Figure size 432x288 with 1 Axes>"
            ],
            "image/png": "[encoded data removed]"
          },
          "metadata": {
            "needs_background": "light"
          }
        }
      ],
      "source": [
        "for category in classes:\n",
        "    path = os.path.join(\"/content/drive/MyDrive/Colab Notebooks/FER-2013/train\", category)\n",
        "    for img in os.listdir(path): # os.listdir: 지정한 디렉토리 내 모든 파일과 디렉토리의 리스트 반환\n",
        "        img_array = cv2.imread(os.path.join(path, img))\n",
        "        plt.imshow(cv2.cvtColor(img_array, cv2.COLOR_BGR2RGB))\n",
        "        plt.show()\n",
        "        break\n",
        "    break"
      ],
      "id": "2d9c289c"
    },
    {
      "cell_type": "code",
      "execution_count": 8,
      "metadata": {
        "colab": {
          "base_uri": "https://localhost:8080/",
          "height": 269
        },
        "id": "212702b2",
        "outputId": "87c458e8-541e-4ad5-b617-b94726d20cbe"
      },
      "outputs": [
        {
          "output_type": "display_data",
          "data": {
            "text/plain": [
              "<Figure size 432x288 with 1 Axes>"
            ],
            "image/png": "[encoded data removed]"
          },
          "metadata": {
            "needs_background": "light"
          }
        }
      ],
      "source": [
        "img_size = 224 # ImageNet => 224 x 224 (typical image size for computer vision tasks)\n",
        "# 세션 다운 문제로 48 x 48\n",
        "new_array = cv2.resize(img_array, (img_size, img_size))\n",
        "plt.imshow(cv2.cvtColor(new_array, cv2.COLOR_BGR2RGB))\n",
        "plt.show()"
      ],
      "id": "212702b2"
    },
    {
      "cell_type": "code",
      "execution_count": 9,
      "metadata": {
        "colab": {
          "base_uri": "https://localhost:8080/"
        },
        "id": "e6ad7b5a",
        "outputId": "af989fe1-5eaf-4df2-88a0-e97d08a1844f"
      },
      "outputs": [
        {
          "output_type": "execute_result",
          "data": {
            "text/plain": [
              "(224, 224, 3)"
            ]
          },
          "metadata": {},
          "execution_count": 9
        }
      ],
      "source": [
        "new_array.shape"
      ],
      "id": "e6ad7b5a"
    },
    {
      "cell_type": "markdown",
      "metadata": {
        "id": "d5fa9be7"
      },
      "source": [
        "# Read all the images and converting them to array"
      ],
      "id": "d5fa9be7"
    },
    {
      "cell_type": "code",
      "execution_count": 10,
      "metadata": {
        "id": "fb7bd827"
      },
      "outputs": [],
      "source": [
        "training_data = []\n",
        "validation_data = []\n",
        "\n",
        "def create_training_data():\n",
        "    for category in classes:\n",
        "        path = os.path.join(\"/content/drive/MyDrive/Colab Notebooks/FER-2013/train\", category)\n",
        "        class_num = classes.index(category)\n",
        "        for img in os.listdir(path):\n",
        "            try:\n",
        "                img_array = cv2.imread(os.path.join(path, img))\n",
        "                new_array = cv2.resize(img_array, (img_size, img_size))\n",
        "                training_data.append([new_array, class_num])\n",
        "            except exception as e:\n",
        "                pass\n",
        "\n",
        "def create_validation_data():\n",
        "  for category in classes:\n",
        "    path = os.path.join(\"/content/drive/MyDrive/Colab Notebooks/FER-2013/val\", category)\n",
        "    class_num = classes.index(category)\n",
        "    for img in os.listdir(path):\n",
        "      try:\n",
        "        img_array = cv2.imread(os.path.join(path, img))\n",
        "        new_array = cv2.resize(img_array, (img_size, img_size))\n",
        "        validation_data.append([new_array, class_num])\n",
        "      except exception as e:\n",
        "          pass\n",
        "\n",
        "create_training_data()\n",
        "create_validation_data()"
      ],
      "id": "fb7bd827"
    },
    {
      "cell_type": "code",
      "execution_count": 11,
      "metadata": {
        "colab": {
          "base_uri": "https://localhost:8080/"
        },
        "id": "27f4c772",
        "outputId": "7001852e-5a88-42b6-c37e-654636670956"
      },
      "outputs": [
        {
          "output_type": "stream",
          "name": "stdout",
          "text": [
            "2500\n"
          ]
        }
      ],
      "source": [
        "print(len(training_data))"
      ],
      "id": "27f4c772"
    },
    {
      "cell_type": "code",
      "execution_count": 12,
      "metadata": {
        "id": "fc893149"
      },
      "outputs": [],
      "source": [
        "temp = np.array(training_data, dtype=object) # numpy 배열 생성"
      ],
      "id": "fc893149"
    },
    {
      "cell_type": "code",
      "execution_count": 13,
      "metadata": {
        "colab": {
          "base_uri": "https://localhost:8080/"
        },
        "id": "8317a1f9",
        "outputId": "71dc4dbb-1451-41c7-d825-cd276c7d114a"
      },
      "outputs": [
        {
          "output_type": "execute_result",
          "data": {
            "text/plain": [
              "(2500, 2)"
            ]
          },
          "metadata": {},
          "execution_count": 13
        }
      ],
      "source": [
        "temp.shape # 각 차원의 크기를 tuple로 표시"
      ],
      "id": "8317a1f9"
    },
    {
      "cell_type": "code",
      "execution_count": 14,
      "metadata": {
        "id": "83b9c0dd"
      },
      "outputs": [],
      "source": [
        "import random\n",
        "\n",
        "random.shuffle(training_data) \n",
        "random.shuffle(validation_data)\n",
        "# epoch마다 데이터를 랜덤하게 섞는 이유: \n",
        "# 데이터를 학습하는 과정에서 해당 데이터의 순서에 의존하지 않고 임의의 데이터가 입력되는 것으로 간주하기 위해서"
      ],
      "id": "83b9c0dd"
    },
    {
      "cell_type": "code",
      "execution_count": 15,
      "metadata": {
        "id": "50e088a7"
      },
      "outputs": [],
      "source": [
        "x_training = [] # data (feature)\n",
        "y_training = [] # label\n",
        "\n",
        "x_validation = []\n",
        "y_validation = []\n",
        "\n",
        "for features, label in training_data:\n",
        "    x_training.append(features)\n",
        "    y_training.append(label)\n",
        "\n",
        "for features, label in validation_data:\n",
        "    x_validation.append(features)\n",
        "    y_validation.append(label)\n",
        "    \n",
        "X_training = np.array(x_training).reshape(-1, img_size, img_size, 3); # converting it to 4 dimension\n",
        "X_validation = np.array(x_validation).reshape(-1, img_size, img_size, 3);"
      ],
      "id": "50e088a7"
    },
    {
      "cell_type": "code",
      "execution_count": 16,
      "metadata": {
        "colab": {
          "base_uri": "https://localhost:8080/"
        },
        "id": "sV7gqlSyHF2Z",
        "outputId": "3f851e2c-fc46-4f7e-90f8-daed377a7fa1"
      },
      "outputs": [
        {
          "output_type": "execute_result",
          "data": {
            "text/plain": [
              "(2500, 224, 224, 3)"
            ]
          },
          "metadata": {},
          "execution_count": 16
        }
      ],
      "source": [
        "X_training.shape"
      ],
      "id": "sV7gqlSyHF2Z"
    },
    {
      "cell_type": "code",
      "execution_count": 17,
      "metadata": {
        "id": "BJOCtxOOHRcp"
      },
      "outputs": [],
      "source": [
        "# normalize the data\n",
        "#X = X / 225.0;\n",
        "X_training = X_training / 225.0;\n",
        "X_validation = X_validation / 225.0;"
      ],
      "id": "BJOCtxOOHRcp"
    },
    {
      "cell_type": "code",
      "execution_count": 18,
      "metadata": {
        "colab": {
          "base_uri": "https://localhost:8080/"
        },
        "id": "Lvr7IK_fI67y",
        "outputId": "471b6d25-8b55-4826-a185-b8761a9b01dd"
      },
      "outputs": [
        {
          "output_type": "execute_result",
          "data": {
            "text/plain": [
              "list"
            ]
          },
          "metadata": {},
          "execution_count": 18
        }
      ],
      "source": [
        "type(y_training)"
      ],
      "id": "Lvr7IK_fI67y"
    },
    {
      "cell_type": "code",
      "execution_count": 19,
      "metadata": {
        "id": "tjataWX4I_mg"
      },
      "outputs": [],
      "source": [
        "Y_training = np.array(y_training)\n",
        "Y_validation = np.array(y_validation)"
      ],
      "id": "tjataWX4I_mg"
    },
    {
      "cell_type": "code",
      "execution_count": 20,
      "metadata": {
        "colab": {
          "base_uri": "https://localhost:8080/"
        },
        "id": "OJ1BLZ5MVKZY",
        "outputId": "63c5e4a2-ab34-474b-b7a7-f6556b79b7b3"
      },
      "outputs": [
        {
          "output_type": "execute_result",
          "data": {
            "text/plain": [
              "(2500,)"
            ]
          },
          "metadata": {},
          "execution_count": 20
        }
      ],
      "source": [
        "Y_training.shape"
      ],
      "id": "OJ1BLZ5MVKZY"
    },
    {
      "cell_type": "markdown",
      "metadata": {
        "id": "4KzHFyZgVWAO"
      },
      "source": [
        "# deep learning model for training - Transfer Learning"
      ],
      "id": "4KzHFyZgVWAO"
    },
    {
      "cell_type": "code",
      "execution_count": 21,
      "metadata": {
        "id": "yCdfDHusVer7"
      },
      "outputs": [],
      "source": [
        "import tensorflow as tf\n",
        "from tensorflow import keras\n",
        "from tensorflow.keras import layers\n",
        "from tensorflow.keras.layers import Conv2D, Dense, ReLU, Softmax, BatchNormalization, DepthwiseConv2D, ZeroPadding2D, GlobalAveragePooling2D, add, Dropout"
      ],
      "id": "yCdfDHusVer7"
    },
    {
      "cell_type": "code",
      "execution_count": 22,
      "metadata": {
        "colab": {
          "base_uri": "https://localhost:8080/"
        },
        "id": "AEjJwwIHMPNm",
        "outputId": "1b665e86-61f9-4167-a49d-7580a938a170"
      },
      "outputs": [
        {
          "output_type": "stream",
          "name": "stdout",
          "text": [
            "Model: \"mobilenetv2_1.00_224\"\n",
            "__________________________________________________________________________________________________\n",
            " Layer (type)                   Output Shape         Param #     Connected to                     \n",
            "==================================================================================================\n",
            " input_1 (InputLayer)           [(None, 224, 224, 3  0           []                               \n",
            "                                )]                                                                \n",
            "                                                                                                  \n",
            " Conv1 (Conv2D)                 (None, 112, 112, 32  864         ['input_1[0][0]']                \n",
            "                                )                                                                 \n",
            "                                                                                                  \n",
            " bn_Conv1 (BatchNormalization)  (None, 112, 112, 32  128         ['Conv1[0][0]']                  \n",
            "                                )                                                                 \n",
            "                                                                                                  \n",
            " Conv1_relu (ReLU)              (None, 112, 112, 32  0           ['bn_Conv1[0][0]']               \n",
            "                                )                                                                 \n",
            "                                                                                                  \n",
            " expanded_conv_depthwise (Depth  (None, 112, 112, 32  288        ['Conv1_relu[0][0]']             \n",
            " wiseConv2D)                    )                                                                 \n",
            "                                                                                                  \n",
            " expanded_conv_depthwise_BN (Ba  (None, 112, 112, 32  128        ['expanded_conv_depthwise[0][0]']\n",
            " tchNormalization)              )                                                                 \n",
            "                                                                                                  \n",
            " expanded_conv_depthwise_relu (  (None, 112, 112, 32  0          ['expanded_conv_depthwise_BN[0][0\n",
            " ReLU)                          )                                ]']                              \n",
            "                                                                                                  \n",
            " expanded_conv_project (Conv2D)  (None, 112, 112, 16  512        ['expanded_conv_depthwise_relu[0]\n",
            "                                )                                [0]']                            \n",
            "                                                                                                  \n",
            " expanded_conv_project_BN (Batc  (None, 112, 112, 16  64         ['expanded_conv_project[0][0]']  \n",
            " hNormalization)                )                                                                 \n",
            "                                                                                                  \n",
            " block_1_expand (Conv2D)        (None, 112, 112, 96  1536        ['expanded_conv_project_BN[0][0]'\n",
            "                                )                                ]                                \n",
            "                                                                                                  \n",
            " block_1_expand_BN (BatchNormal  (None, 112, 112, 96  384        ['block_1_expand[0][0]']         \n",
            " ization)                       )                                                                 \n",
            "                                                                                                  \n",
            " block_1_expand_relu (ReLU)     (None, 112, 112, 96  0           ['block_1_expand_BN[0][0]']      \n",
            "                                )                                                                 \n",
            "                                                                                                  \n",
            " block_1_pad (ZeroPadding2D)    (None, 113, 113, 96  0           ['block_1_expand_relu[0][0]']    \n",
            "                                )                                                                 \n",
            "                                                                                                  \n",
            " block_1_depthwise (DepthwiseCo  (None, 56, 56, 96)  864         ['block_1_pad[0][0]']            \n",
            " nv2D)                                                                                            \n",
            "                                                                                                  \n",
            " block_1_depthwise_BN (BatchNor  (None, 56, 56, 96)  384         ['block_1_depthwise[0][0]']      \n",
            " malization)                                                                                      \n",
            "                                                                                                  \n",
            " block_1_depthwise_relu (ReLU)  (None, 56, 56, 96)   0           ['block_1_depthwise_BN[0][0]']   \n",
            "                                                                                                  \n",
            " block_1_project (Conv2D)       (None, 56, 56, 24)   2304        ['block_1_depthwise_relu[0][0]'] \n",
            "                                                                                                  \n",
            " block_1_project_BN (BatchNorma  (None, 56, 56, 24)  96          ['block_1_project[0][0]']        \n",
            " lization)                                                                                        \n",
            "                                                                                                  \n",
            " block_2_expand (Conv2D)        (None, 56, 56, 144)  3456        ['block_1_project_BN[0][0]']     \n",
            "                                                                                                  \n",
            " block_2_expand_BN (BatchNormal  (None, 56, 56, 144)  576        ['block_2_expand[0][0]']         \n",
            " ization)                                                                                         \n",
            "                                                                                                  \n",
            " block_2_expand_relu (ReLU)     (None, 56, 56, 144)  0           ['block_2_expand_BN[0][0]']      \n",
            "                                                                                                  \n",
            " block_2_depthwise (DepthwiseCo  (None, 56, 56, 144)  1296       ['block_2_expand_relu[0][0]']    \n",
            " nv2D)                                                                                            \n",
            "                                                                                                  \n",
            " block_2_depthwise_BN (BatchNor  (None, 56, 56, 144)  576        ['block_2_depthwise[0][0]']      \n",
            " malization)                                                                                      \n",
            "                                                                                                  \n",
            " block_2_depthwise_relu (ReLU)  (None, 56, 56, 144)  0           ['block_2_depthwise_BN[0][0]']   \n",
            "                                                                                                  \n",
            " block_2_project (Conv2D)       (None, 56, 56, 24)   3456        ['block_2_depthwise_relu[0][0]'] \n",
            "                                                                                                  \n",
            " block_2_project_BN (BatchNorma  (None, 56, 56, 24)  96          ['block_2_project[0][0]']        \n",
            " lization)                                                                                        \n",
            "                                                                                                  \n",
            " block_2_add (Add)              (None, 56, 56, 24)   0           ['block_1_project_BN[0][0]',     \n",
            "                                                                  'block_2_project_BN[0][0]']     \n",
            "                                                                                                  \n",
            " block_3_expand (Conv2D)        (None, 56, 56, 144)  3456        ['block_2_add[0][0]']            \n",
            "                                                                                                  \n",
            " block_3_expand_BN (BatchNormal  (None, 56, 56, 144)  576        ['block_3_expand[0][0]']         \n",
            " ization)                                                                                         \n",
            "                                                                                                  \n",
            " block_3_expand_relu (ReLU)     (None, 56, 56, 144)  0           ['block_3_expand_BN[0][0]']      \n",
            "                                                                                                  \n",
            " block_3_pad (ZeroPadding2D)    (None, 57, 57, 144)  0           ['block_3_expand_relu[0][0]']    \n",
            "                                                                                                  \n",
            " block_3_depthwise (DepthwiseCo  (None, 28, 28, 144)  1296       ['block_3_pad[0][0]']            \n",
            " nv2D)                                                                                            \n",
            "                                                                                                  \n",
            " block_3_depthwise_BN (BatchNor  (None, 28, 28, 144)  576        ['block_3_depthwise[0][0]']      \n",
            " malization)                                                                                      \n",
            "                                                                                                  \n",
            " block_3_depthwise_relu (ReLU)  (None, 28, 28, 144)  0           ['block_3_depthwise_BN[0][0]']   \n",
            "                                                                                                  \n",
            " block_3_project (Conv2D)       (None, 28, 28, 32)   4608        ['block_3_depthwise_relu[0][0]'] \n",
            "                                                                                                  \n",
            " block_3_project_BN (BatchNorma  (None, 28, 28, 32)  128         ['block_3_project[0][0]']        \n",
            " lization)                                                                                        \n",
            "                                                                                                  \n",
            " block_4_expand (Conv2D)        (None, 28, 28, 192)  6144        ['block_3_project_BN[0][0]']     \n",
            "                                                                                                  \n",
            " block_4_expand_BN (BatchNormal  (None, 28, 28, 192)  768        ['block_4_expand[0][0]']         \n",
            " ization)                                                                                         \n",
            "                                                                                                  \n",
            " block_4_expand_relu (ReLU)     (None, 28, 28, 192)  0           ['block_4_expand_BN[0][0]']      \n",
            "                                                                                                  \n",
            " block_4_depthwise (DepthwiseCo  (None, 28, 28, 192)  1728       ['block_4_expand_relu[0][0]']    \n",
            " nv2D)                                                                                            \n",
            "                                                                                                  \n",
            " block_4_depthwise_BN (BatchNor  (None, 28, 28, 192)  768        ['block_4_depthwise[0][0]']      \n",
            " malization)                                                                                      \n",
            "                                                                                                  \n",
            " block_4_depthwise_relu (ReLU)  (None, 28, 28, 192)  0           ['block_4_depthwise_BN[0][0]']   \n",
            "                                                                                                  \n",
            " block_4_project (Conv2D)       (None, 28, 28, 32)   6144        ['block_4_depthwise_relu[0][0]'] \n",
            "                                                                                                  \n",
            " block_4_project_BN (BatchNorma  (None, 28, 28, 32)  128         ['block_4_project[0][0]']        \n",
            " lization)                                                                                        \n",
            "                                                                                                  \n",
            " block_4_add (Add)              (None, 28, 28, 32)   0           ['block_3_project_BN[0][0]',     \n",
            "                                                                  'block_4_project_BN[0][0]']     \n",
            "                                                                                                  \n",
            " block_5_expand (Conv2D)        (None, 28, 28, 192)  6144        ['block_4_add[0][0]']            \n",
            "                                                                                                  \n",
            " block_5_expand_BN (BatchNormal  (None, 28, 28, 192)  768        ['block_5_expand[0][0]']         \n",
            " ization)                                                                                         \n",
            "                                                                                                  \n",
            " block_5_expand_relu (ReLU)     (None, 28, 28, 192)  0           ['block_5_expand_BN[0][0]']      \n",
            "                                                                                                  \n",
            " block_5_depthwise (DepthwiseCo  (None, 28, 28, 192)  1728       ['block_5_expand_relu[0][0]']    \n",
            " nv2D)                                                                                            \n",
            "                                                                                                  \n",
            " block_5_depthwise_BN (BatchNor  (None, 28, 28, 192)  768        ['block_5_depthwise[0][0]']      \n",
            " malization)                                                                                      \n",
            "                                                                                                  \n",
            " block_5_depthwise_relu (ReLU)  (None, 28, 28, 192)  0           ['block_5_depthwise_BN[0][0]']   \n",
            "                                                                                                  \n",
            " block_5_project (Conv2D)       (None, 28, 28, 32)   6144        ['block_5_depthwise_relu[0][0]'] \n",
            "                                                                                                  \n",
            " block_5_project_BN (BatchNorma  (None, 28, 28, 32)  128         ['block_5_project[0][0]']        \n",
            " lization)                                                                                        \n",
            "                                                                                                  \n",
            " block_5_add (Add)              (None, 28, 28, 32)   0           ['block_4_add[0][0]',            \n",
            "                                                                  'block_5_project_BN[0][0]']     \n",
            "                                                                                                  \n",
            " block_6_expand (Conv2D)        (None, 28, 28, 192)  6144        ['block_5_add[0][0]']            \n",
            "                                                                                                  \n",
            " block_6_expand_BN (BatchNormal  (None, 28, 28, 192)  768        ['block_6_expand[0][0]']         \n",
            " ization)                                                                                         \n",
            "                                                                                                  \n",
            " block_6_expand_relu (ReLU)     (None, 28, 28, 192)  0           ['block_6_expand_BN[0][0]']      \n",
            "                                                                                                  \n",
            " block_6_pad (ZeroPadding2D)    (None, 29, 29, 192)  0           ['block_6_expand_relu[0][0]']    \n",
            "                                                                                                  \n",
            " block_6_depthwise (DepthwiseCo  (None, 14, 14, 192)  1728       ['block_6_pad[0][0]']            \n",
            " nv2D)                                                                                            \n",
            "                                                                                                  \n",
            " block_6_depthwise_BN (BatchNor  (None, 14, 14, 192)  768        ['block_6_depthwise[0][0]']      \n",
            " malization)                                                                                      \n",
            "                                                                                                  \n",
            " block_6_depthwise_relu (ReLU)  (None, 14, 14, 192)  0           ['block_6_depthwise_BN[0][0]']   \n",
            "                                                                                                  \n",
            " block_6_project (Conv2D)       (None, 14, 14, 64)   12288       ['block_6_depthwise_relu[0][0]'] \n",
            "                                                                                                  \n",
            " block_6_project_BN (BatchNorma  (None, 14, 14, 64)  256         ['block_6_project[0][0]']        \n",
            " lization)                                                                                        \n",
            "                                                                                                  \n",
            " block_7_expand (Conv2D)        (None, 14, 14, 384)  24576       ['block_6_project_BN[0][0]']     \n",
            "                                                                                                  \n",
            " block_7_expand_BN (BatchNormal  (None, 14, 14, 384)  1536       ['block_7_expand[0][0]']         \n",
            " ization)                                                                                         \n",
            "                                                                                                  \n",
            " block_7_expand_relu (ReLU)     (None, 14, 14, 384)  0           ['block_7_expand_BN[0][0]']      \n",
            "                                                                                                  \n",
            " block_7_depthwise (DepthwiseCo  (None, 14, 14, 384)  3456       ['block_7_expand_relu[0][0]']    \n",
            " nv2D)                                                                                            \n",
            "                                                                                                  \n",
            " block_7_depthwise_BN (BatchNor  (None, 14, 14, 384)  1536       ['block_7_depthwise[0][0]']      \n",
            " malization)                                                                                      \n",
            "                                                                                                  \n",
            " block_7_depthwise_relu (ReLU)  (None, 14, 14, 384)  0           ['block_7_depthwise_BN[0][0]']   \n",
            "                                                                                                  \n",
            " block_7_project (Conv2D)       (None, 14, 14, 64)   24576       ['block_7_depthwise_relu[0][0]'] \n",
            "                                                                                                  \n",
            " block_7_project_BN (BatchNorma  (None, 14, 14, 64)  256         ['block_7_project[0][0]']        \n",
            " lization)                                                                                        \n",
            "                                                                                                  \n",
            " block_7_add (Add)              (None, 14, 14, 64)   0           ['block_6_project_BN[0][0]',     \n",
            "                                                                  'block_7_project_BN[0][0]']     \n",
            "                                                                                                  \n",
            " block_8_expand (Conv2D)        (None, 14, 14, 384)  24576       ['block_7_add[0][0]']            \n",
            "                                                                                                  \n",
            " block_8_expand_BN (BatchNormal  (None, 14, 14, 384)  1536       ['block_8_expand[0][0]']         \n",
            " ization)                                                                                         \n",
            "                                                                                                  \n",
            " block_8_expand_relu (ReLU)     (None, 14, 14, 384)  0           ['block_8_expand_BN[0][0]']      \n",
            "                                                                                                  \n",
            " block_8_depthwise (DepthwiseCo  (None, 14, 14, 384)  3456       ['block_8_expand_relu[0][0]']    \n",
            " nv2D)                                                                                            \n",
            "                                                                                                  \n",
            " block_8_depthwise_BN (BatchNor  (None, 14, 14, 384)  1536       ['block_8_depthwise[0][0]']      \n",
            " malization)                                                                                      \n",
            "                                                                                                  \n",
            " block_8_depthwise_relu (ReLU)  (None, 14, 14, 384)  0           ['block_8_depthwise_BN[0][0]']   \n",
            "                                                                                                  \n",
            " block_8_project (Conv2D)       (None, 14, 14, 64)   24576       ['block_8_depthwise_relu[0][0]'] \n",
            "                                                                                                  \n",
            " block_8_project_BN (BatchNorma  (None, 14, 14, 64)  256         ['block_8_project[0][0]']        \n",
            " lization)                                                                                        \n",
            "                                                                                                  \n",
            " block_8_add (Add)              (None, 14, 14, 64)   0           ['block_7_add[0][0]',            \n",
            "                                                                  'block_8_project_BN[0][0]']     \n",
            "                                                                                                  \n",
            " block_9_expand (Conv2D)        (None, 14, 14, 384)  24576       ['block_8_add[0][0]']            \n",
            "                                                                                                  \n",
            " block_9_expand_BN (BatchNormal  (None, 14, 14, 384)  1536       ['block_9_expand[0][0]']         \n",
            " ization)                                                                                         \n",
            "                                                                                                  \n",
            " block_9_expand_relu (ReLU)     (None, 14, 14, 384)  0           ['block_9_expand_BN[0][0]']      \n",
            "                                                                                                  \n",
            " block_9_depthwise (DepthwiseCo  (None, 14, 14, 384)  3456       ['block_9_expand_relu[0][0]']    \n",
            " nv2D)                                                                                            \n",
            "                                                                                                  \n",
            " block_9_depthwise_BN (BatchNor  (None, 14, 14, 384)  1536       ['block_9_depthwise[0][0]']      \n",
            " malization)                                                                                      \n",
            "                                                                                                  \n",
            " block_9_depthwise_relu (ReLU)  (None, 14, 14, 384)  0           ['block_9_depthwise_BN[0][0]']   \n",
            "                                                                                                  \n",
            " block_9_project (Conv2D)       (None, 14, 14, 64)   24576       ['block_9_depthwise_relu[0][0]'] \n",
            "                                                                                                  \n",
            " block_9_project_BN (BatchNorma  (None, 14, 14, 64)  256         ['block_9_project[0][0]']        \n",
            " lization)                                                                                        \n",
            "                                                                                                  \n",
            " block_9_add (Add)              (None, 14, 14, 64)   0           ['block_8_add[0][0]',            \n",
            "                                                                  'block_9_project_BN[0][0]']     \n",
            "                                                                                                  \n",
            " block_10_expand (Conv2D)       (None, 14, 14, 384)  24576       ['block_9_add[0][0]']            \n",
            "                                                                                                  \n",
            " block_10_expand_BN (BatchNorma  (None, 14, 14, 384)  1536       ['block_10_expand[0][0]']        \n",
            " lization)                                                                                        \n",
            "                                                                                                  \n",
            " block_10_expand_relu (ReLU)    (None, 14, 14, 384)  0           ['block_10_expand_BN[0][0]']     \n",
            "                                                                                                  \n",
            " block_10_depthwise (DepthwiseC  (None, 14, 14, 384)  3456       ['block_10_expand_relu[0][0]']   \n",
            " onv2D)                                                                                           \n",
            "                                                                                                  \n",
            " block_10_depthwise_BN (BatchNo  (None, 14, 14, 384)  1536       ['block_10_depthwise[0][0]']     \n",
            " rmalization)                                                                                     \n",
            "                                                                                                  \n",
            " block_10_depthwise_relu (ReLU)  (None, 14, 14, 384)  0          ['block_10_depthwise_BN[0][0]']  \n",
            "                                                                                                  \n",
            " block_10_project (Conv2D)      (None, 14, 14, 96)   36864       ['block_10_depthwise_relu[0][0]']\n",
            "                                                                                                  \n",
            " block_10_project_BN (BatchNorm  (None, 14, 14, 96)  384         ['block_10_project[0][0]']       \n",
            " alization)                                                                                       \n",
            "                                                                                                  \n",
            " block_11_expand (Conv2D)       (None, 14, 14, 576)  55296       ['block_10_project_BN[0][0]']    \n",
            "                                                                                                  \n",
            " block_11_expand_BN (BatchNorma  (None, 14, 14, 576)  2304       ['block_11_expand[0][0]']        \n",
            " lization)                                                                                        \n",
            "                                                                                                  \n",
            " block_11_expand_relu (ReLU)    (None, 14, 14, 576)  0           ['block_11_expand_BN[0][0]']     \n",
            "                                                                                                  \n",
            " block_11_depthwise (DepthwiseC  (None, 14, 14, 576)  5184       ['block_11_expand_relu[0][0]']   \n",
            " onv2D)                                                                                           \n",
            "                                                                                                  \n",
            " block_11_depthwise_BN (BatchNo  (None, 14, 14, 576)  2304       ['block_11_depthwise[0][0]']     \n",
            " rmalization)                                                                                     \n",
            "                                                                                                  \n",
            " block_11_depthwise_relu (ReLU)  (None, 14, 14, 576)  0          ['block_11_depthwise_BN[0][0]']  \n",
            "                                                                                                  \n",
            " block_11_project (Conv2D)      (None, 14, 14, 96)   55296       ['block_11_depthwise_relu[0][0]']\n",
            "                                                                                                  \n",
            " block_11_project_BN (BatchNorm  (None, 14, 14, 96)  384         ['block_11_project[0][0]']       \n",
            " alization)                                                                                       \n",
            "                                                                                                  \n",
            " block_11_add (Add)             (None, 14, 14, 96)   0           ['block_10_project_BN[0][0]',    \n",
            "                                                                  'block_11_project_BN[0][0]']    \n",
            "                                                                                                  \n",
            " block_12_expand (Conv2D)       (None, 14, 14, 576)  55296       ['block_11_add[0][0]']           \n",
            "                                                                                                  \n",
            " block_12_expand_BN (BatchNorma  (None, 14, 14, 576)  2304       ['block_12_expand[0][0]']        \n",
            " lization)                                                                                        \n",
            "                                                                                                  \n",
            " block_12_expand_relu (ReLU)    (None, 14, 14, 576)  0           ['block_12_expand_BN[0][0]']     \n",
            "                                                                                                  \n",
            " block_12_depthwise (DepthwiseC  (None, 14, 14, 576)  5184       ['block_12_expand_relu[0][0]']   \n",
            " onv2D)                                                                                           \n",
            "                                                                                                  \n",
            " block_12_depthwise_BN (BatchNo  (None, 14, 14, 576)  2304       ['block_12_depthwise[0][0]']     \n",
            " rmalization)                                                                                     \n",
            "                                                                                                  \n",
            " block_12_depthwise_relu (ReLU)  (None, 14, 14, 576)  0          ['block_12_depthwise_BN[0][0]']  \n",
            "                                                                                                  \n",
            " block_12_project (Conv2D)      (None, 14, 14, 96)   55296       ['block_12_depthwise_relu[0][0]']\n",
            "                                                                                                  \n",
            " block_12_project_BN (BatchNorm  (None, 14, 14, 96)  384         ['block_12_project[0][0]']       \n",
            " alization)                                                                                       \n",
            "                                                                                                  \n",
            " block_12_add (Add)             (None, 14, 14, 96)   0           ['block_11_add[0][0]',           \n",
            "                                                                  'block_12_project_BN[0][0]']    \n",
            "                                                                                                  \n",
            " block_13_expand (Conv2D)       (None, 14, 14, 576)  55296       ['block_12_add[0][0]']           \n",
            "                                                                                                  \n",
            " block_13_expand_BN (BatchNorma  (None, 14, 14, 576)  2304       ['block_13_expand[0][0]']        \n",
            " lization)                                                                                        \n",
            "                                                                                                  \n",
            " block_13_expand_relu (ReLU)    (None, 14, 14, 576)  0           ['block_13_expand_BN[0][0]']     \n",
            "                                                                                                  \n",
            " block_13_pad (ZeroPadding2D)   (None, 15, 15, 576)  0           ['block_13_expand_relu[0][0]']   \n",
            "                                                                                                  \n",
            " block_13_depthwise (DepthwiseC  (None, 7, 7, 576)   5184        ['block_13_pad[0][0]']           \n",
            " onv2D)                                                                                           \n",
            "                                                                                                  \n",
            " block_13_depthwise_BN (BatchNo  (None, 7, 7, 576)   2304        ['block_13_depthwise[0][0]']     \n",
            " rmalization)                                                                                     \n",
            "                                                                                                  \n",
            " block_13_depthwise_relu (ReLU)  (None, 7, 7, 576)   0           ['block_13_depthwise_BN[0][0]']  \n",
            "                                                                                                  \n",
            " block_13_project (Conv2D)      (None, 7, 7, 160)    92160       ['block_13_depthwise_relu[0][0]']\n",
            "                                                                                                  \n",
            " block_13_project_BN (BatchNorm  (None, 7, 7, 160)   640         ['block_13_project[0][0]']       \n",
            " alization)                                                                                       \n",
            "                                                                                                  \n",
            " block_14_expand (Conv2D)       (None, 7, 7, 960)    153600      ['block_13_project_BN[0][0]']    \n",
            "                                                                                                  \n",
            " block_14_expand_BN (BatchNorma  (None, 7, 7, 960)   3840        ['block_14_expand[0][0]']        \n",
            " lization)                                                                                        \n",
            "                                                                                                  \n",
            " block_14_expand_relu (ReLU)    (None, 7, 7, 960)    0           ['block_14_expand_BN[0][0]']     \n",
            "                                                                                                  \n",
            " block_14_depthwise (DepthwiseC  (None, 7, 7, 960)   8640        ['block_14_expand_relu[0][0]']   \n",
            " onv2D)                                                                                           \n",
            "                                                                                                  \n",
            " block_14_depthwise_BN (BatchNo  (None, 7, 7, 960)   3840        ['block_14_depthwise[0][0]']     \n",
            " rmalization)                                                                                     \n",
            "                                                                                                  \n",
            " block_14_depthwise_relu (ReLU)  (None, 7, 7, 960)   0           ['block_14_depthwise_BN[0][0]']  \n",
            "                                                                                                  \n",
            " block_14_project (Conv2D)      (None, 7, 7, 160)    153600      ['block_14_depthwise_relu[0][0]']\n",
            "                                                                                                  \n",
            " block_14_project_BN (BatchNorm  (None, 7, 7, 160)   640         ['block_14_project[0][0]']       \n",
            " alization)                                                                                       \n",
            "                                                                                                  \n",
            " block_14_add (Add)             (None, 7, 7, 160)    0           ['block_13_project_BN[0][0]',    \n",
            "                                                                  'block_14_project_BN[0][0]']    \n",
            "                                                                                                  \n",
            " block_15_expand (Conv2D)       (None, 7, 7, 960)    153600      ['block_14_add[0][0]']           \n",
            "                                                                                                  \n",
            " block_15_expand_BN (BatchNorma  (None, 7, 7, 960)   3840        ['block_15_expand[0][0]']        \n",
            " lization)                                                                                        \n",
            "                                                                                                  \n",
            " block_15_expand_relu (ReLU)    (None, 7, 7, 960)    0           ['block_15_expand_BN[0][0]']     \n",
            "                                                                                                  \n",
            " block_15_depthwise (DepthwiseC  (None, 7, 7, 960)   8640        ['block_15_expand_relu[0][0]']   \n",
            " onv2D)                                                                                           \n",
            "                                                                                                  \n",
            " block_15_depthwise_BN (BatchNo  (None, 7, 7, 960)   3840        ['block_15_depthwise[0][0]']     \n",
            " rmalization)                                                                                     \n",
            "                                                                                                  \n",
            " block_15_depthwise_relu (ReLU)  (None, 7, 7, 960)   0           ['block_15_depthwise_BN[0][0]']  \n",
            "                                                                                                  \n",
            " block_15_project (Conv2D)      (None, 7, 7, 160)    153600      ['block_15_depthwise_relu[0][0]']\n",
            "                                                                                                  \n",
            " block_15_project_BN (BatchNorm  (None, 7, 7, 160)   640         ['block_15_project[0][0]']       \n",
            " alization)                                                                                       \n",
            "                                                                                                  \n",
            " block_15_add (Add)             (None, 7, 7, 160)    0           ['block_14_add[0][0]',           \n",
            "                                                                  'block_15_project_BN[0][0]']    \n",
            "                                                                                                  \n",
            " block_16_expand (Conv2D)       (None, 7, 7, 960)    153600      ['block_15_add[0][0]']           \n",
            "                                                                                                  \n",
            " block_16_expand_BN (BatchNorma  (None, 7, 7, 960)   3840        ['block_16_expand[0][0]']        \n",
            " lization)                                                                                        \n",
            "                                                                                                  \n",
            " block_16_expand_relu (ReLU)    (None, 7, 7, 960)    0           ['block_16_expand_BN[0][0]']     \n",
            "                                                                                                  \n",
            " block_16_depthwise (DepthwiseC  (None, 7, 7, 960)   8640        ['block_16_expand_relu[0][0]']   \n",
            " onv2D)                                                                                           \n",
            "                                                                                                  \n",
            " block_16_depthwise_BN (BatchNo  (None, 7, 7, 960)   3840        ['block_16_depthwise[0][0]']     \n",
            " rmalization)                                                                                     \n",
            "                                                                                                  \n",
            " block_16_depthwise_relu (ReLU)  (None, 7, 7, 960)   0           ['block_16_depthwise_BN[0][0]']  \n",
            "                                                                                                  \n",
            " block_16_project (Conv2D)      (None, 7, 7, 320)    307200      ['block_16_depthwise_relu[0][0]']\n",
            "                                                                                                  \n",
            " block_16_project_BN (BatchNorm  (None, 7, 7, 320)   1280        ['block_16_project[0][0]']       \n",
            " alization)                                                                                       \n",
            "                                                                                                  \n",
            " Conv_1 (Conv2D)                (None, 7, 7, 1280)   409600      ['block_16_project_BN[0][0]']    \n",
            "                                                                                                  \n",
            " Conv_1_bn (BatchNormalization)  (None, 7, 7, 1280)  5120        ['Conv_1[0][0]']                 \n",
            "                                                                                                  \n",
            " out_relu (ReLU)                (None, 7, 7, 1280)   0           ['Conv_1_bn[0][0]']              \n",
            "                                                                                                  \n",
            " global_average_pooling2d (Glob  (None, 1280)        0           ['out_relu[0][0]']               \n",
            " alAveragePooling2D)                                                                              \n",
            "                                                                                                  \n",
            " predictions (Dense)            (None, 1000)         1281000     ['global_average_pooling2d[0][0]'\n",
            "                                                                 ]                                \n",
            "                                                                                                  \n",
            "==================================================================================================\n",
            "Total params: 3,538,984\n",
            "Trainable params: 3,504,872\n",
            "Non-trainable params: 34,112\n",
            "__________________________________________________________________________________________________\n"
          ]
        }
      ],
      "source": [
        "mobileNetV2 = tf.keras.applications.MobileNetV2();\n",
        "mobileNetV2.summary()"
      ],
      "id": "AEjJwwIHMPNm"
    },
    {
      "cell_type": "markdown",
      "metadata": {
        "id": "vEoMFY0rWjaR"
      },
      "source": [
        "# Transfer Learning - Tuning, weights will start from last check point"
      ],
      "id": "vEoMFY0rWjaR"
    },
    {
      "cell_type": "code",
      "execution_count": 23,
      "metadata": {
        "id": "cF7sfrs_Wh31"
      },
      "outputs": [],
      "source": [
        "base_input = mobileNetV2.layers[0].input # 첫 번째 layer -> input_2 (InputLayer)\n",
        "#base_input = layers.Input(shape=(48,48,3))"
      ],
      "id": "cF7sfrs_Wh31"
    },
    {
      "cell_type": "code",
      "execution_count": 24,
      "metadata": {
        "colab": {
          "base_uri": "https://localhost:8080/"
        },
        "id": "0GJtOvNc7PCT",
        "outputId": "22c876b4-bfd3-419d-96e3-24f1d171e4e3"
      },
      "outputs": [
        {
          "output_type": "execute_result",
          "data": {
            "text/plain": [
              "<KerasTensor: shape=(None, 224, 224, 3) dtype=float32 (created by layer 'input_1')>"
            ]
          },
          "metadata": {},
          "execution_count": 24
        }
      ],
      "source": [
        "base_input"
      ],
      "id": "0GJtOvNc7PCT"
    },
    {
      "cell_type": "code",
      "execution_count": 25,
      "metadata": {
        "id": "AqMq3faNWurP"
      },
      "outputs": [],
      "source": [
        "base_output = mobileNetV2.layers[-2].output # 마지막에서 두 번째 layer -> global_average_pooling2d_1 (GlobalAveragePooling2D)"
      ],
      "id": "AqMq3faNWurP"
    },
    {
      "cell_type": "code",
      "execution_count": 26,
      "metadata": {
        "colab": {
          "base_uri": "https://localhost:8080/"
        },
        "id": "ZF3mrsUGWx2s",
        "outputId": "0f45a0d2-fac5-4093-cf5c-695cd636a759"
      },
      "outputs": [
        {
          "output_type": "execute_result",
          "data": {
            "text/plain": [
              "<KerasTensor: shape=(None, 1280) dtype=float32 (created by layer 'global_average_pooling2d')>"
            ]
          },
          "metadata": {},
          "execution_count": 26
        }
      ],
      "source": [
        "base_output"
      ],
      "id": "ZF3mrsUGWx2s"
    },
    {
      "cell_type": "markdown",
      "metadata": {
        "id": "0OLDlsK0XgPx"
      },
      "source": [
        "tk.keras.layers.Dense: 신경망을 만듦. input을 넣었을 때 output으로 바꿔주는 중간 다리\n",
        "\n",
        "* units(정수): 출력값의 크기\n",
        "\n",
        "* ouput = tf.keras.layers.Dense(units, ...)(input) / units: 출력값의 크기\n",
        "\n",
        "* tf.keras.layers.Activation('relu') / relu: rectifier 함수, 주로 은닉층에 쓰임\n",
        "\n",
        "* softmax: 소프트맥스 함수, 다중 클래스 분류 문제에서 출력층에 주로 쓰임\n",
        "\n",
        "신경망: input -> activation function -> hidden -> activation function -> output\n",
        "\n",
        "y = f(Wa+b)   \n",
        "f(): 활성화 함수(딥러닝 네트워크에서 노드에 입력된 값들을 비선형 함수에 통과시킨 후 다음 레이어로 전달할 때 사용, sigmoid/tanh/relu...)   \n",
        "W: 가중치   \n",
        "x: input data    \n",
        "y: output data   \n",
        "\n",
        "https://han-py.tistory.com/207"
      ],
      "id": "0OLDlsK0XgPx"
    },
    {
      "cell_type": "code",
      "execution_count": 27,
      "metadata": {
        "id": "42TfOIJTW6Xm"
      },
      "outputs": [],
      "source": [
        "final_output = layers.Dense(128)(base_output) # adding new layer, after the output of global pooling layer\n",
        "final_output = layers.Activation('relu')(final_output) # activation function\n",
        "final_output = layers.Dense(64)(final_output)\n",
        "final_output = layers.Activation('relu')(final_output)\n",
        "final_output = layers.Dense(5, activation='softmax')(final_output) # output: 5 (5-class emotion)"
      ],
      "id": "42TfOIJTW6Xm"
    },
    {
      "cell_type": "code",
      "execution_count": 28,
      "metadata": {
        "colab": {
          "base_uri": "https://localhost:8080/"
        },
        "id": "0ws7M3MnaNdC",
        "outputId": "84b12dde-de1e-4ad4-cc2c-593f49fe2bc9"
      },
      "outputs": [
        {
          "output_type": "execute_result",
          "data": {
            "text/plain": [
              "<KerasTensor: shape=(None, 5) dtype=float32 (created by layer 'dense_2')>"
            ]
          },
          "metadata": {},
          "execution_count": 28
        }
      ],
      "source": [
        "final_output # output"
      ],
      "id": "0ws7M3MnaNdC"
    },
    {
      "cell_type": "code",
      "execution_count": 29,
      "metadata": {
        "id": "tbUKVGRsaV2v"
      },
      "outputs": [],
      "source": [
        "new_model = keras.Model(inputs = base_input, outputs = final_output) # 기존 model: output이 1000개였으나 new_model에서는 감정 개수에 따라 5개로 줄임"
      ],
      "id": "tbUKVGRsaV2v"
    },
    {
      "cell_type": "code",
      "execution_count": 30,
      "metadata": {
        "colab": {
          "base_uri": "https://localhost:8080/"
        },
        "id": "0Va52JgZacnW",
        "outputId": "79a65296-bc07-4ac3-c940-36e643b13378"
      },
      "outputs": [
        {
          "output_type": "stream",
          "name": "stdout",
          "text": [
            "Model: \"model\"\n",
            "__________________________________________________________________________________________________\n",
            " Layer (type)                   Output Shape         Param #     Connected to                     \n",
            "==================================================================================================\n",
            " input_1 (InputLayer)           [(None, 224, 224, 3  0           []                               \n",
            "                                )]                                                                \n",
            "                                                                                                  \n",
            " Conv1 (Conv2D)                 (None, 112, 112, 32  864         ['input_1[0][0]']                \n",
            "                                )                                                                 \n",
            "                                                                                                  \n",
            " bn_Conv1 (BatchNormalization)  (None, 112, 112, 32  128         ['Conv1[0][0]']                  \n",
            "                                )                                                                 \n",
            "                                                                                                  \n",
            " Conv1_relu (ReLU)              (None, 112, 112, 32  0           ['bn_Conv1[0][0]']               \n",
            "                                )                                                                 \n",
            "                                                                                                  \n",
            " expanded_conv_depthwise (Depth  (None, 112, 112, 32  288        ['Conv1_relu[0][0]']             \n",
            " wiseConv2D)                    )                                                                 \n",
            "                                                                                                  \n",
            " expanded_conv_depthwise_BN (Ba  (None, 112, 112, 32  128        ['expanded_conv_depthwise[0][0]']\n",
            " tchNormalization)              )                                                                 \n",
            "                                                                                                  \n",
            " expanded_conv_depthwise_relu (  (None, 112, 112, 32  0          ['expanded_conv_depthwise_BN[0][0\n",
            " ReLU)                          )                                ]']                              \n",
            "                                                                                                  \n",
            " expanded_conv_project (Conv2D)  (None, 112, 112, 16  512        ['expanded_conv_depthwise_relu[0]\n",
            "                                )                                [0]']                            \n",
            "                                                                                                  \n",
            " expanded_conv_project_BN (Batc  (None, 112, 112, 16  64         ['expanded_conv_project[0][0]']  \n",
            " hNormalization)                )                                                                 \n",
            "                                                                                                  \n",
            " block_1_expand (Conv2D)        (None, 112, 112, 96  1536        ['expanded_conv_project_BN[0][0]'\n",
            "                                )                                ]                                \n",
            "                                                                                                  \n",
            " block_1_expand_BN (BatchNormal  (None, 112, 112, 96  384        ['block_1_expand[0][0]']         \n",
            " ization)                       )                                                                 \n",
            "                                                                                                  \n",
            " block_1_expand_relu (ReLU)     (None, 112, 112, 96  0           ['block_1_expand_BN[0][0]']      \n",
            "                                )                                                                 \n",
            "                                                                                                  \n",
            " block_1_pad (ZeroPadding2D)    (None, 113, 113, 96  0           ['block_1_expand_relu[0][0]']    \n",
            "                                )                                                                 \n",
            "                                                                                                  \n",
            " block_1_depthwise (DepthwiseCo  (None, 56, 56, 96)  864         ['block_1_pad[0][0]']            \n",
            " nv2D)                                                                                            \n",
            "                                                                                                  \n",
            " block_1_depthwise_BN (BatchNor  (None, 56, 56, 96)  384         ['block_1_depthwise[0][0]']      \n",
            " malization)                                                                                      \n",
            "                                                                                                  \n",
            " block_1_depthwise_relu (ReLU)  (None, 56, 56, 96)   0           ['block_1_depthwise_BN[0][0]']   \n",
            "                                                                                                  \n",
            " block_1_project (Conv2D)       (None, 56, 56, 24)   2304        ['block_1_depthwise_relu[0][0]'] \n",
            "                                                                                                  \n",
            " block_1_project_BN (BatchNorma  (None, 56, 56, 24)  96          ['block_1_project[0][0]']        \n",
            " lization)                                                                                        \n",
            "                                                                                                  \n",
            " block_2_expand (Conv2D)        (None, 56, 56, 144)  3456        ['block_1_project_BN[0][0]']     \n",
            "                                                                                                  \n",
            " block_2_expand_BN (BatchNormal  (None, 56, 56, 144)  576        ['block_2_expand[0][0]']         \n",
            " ization)                                                                                         \n",
            "                                                                                                  \n",
            " block_2_expand_relu (ReLU)     (None, 56, 56, 144)  0           ['block_2_expand_BN[0][0]']      \n",
            "                                                                                                  \n",
            " block_2_depthwise (DepthwiseCo  (None, 56, 56, 144)  1296       ['block_2_expand_relu[0][0]']    \n",
            " nv2D)                                                                                            \n",
            "                                                                                                  \n",
            " block_2_depthwise_BN (BatchNor  (None, 56, 56, 144)  576        ['block_2_depthwise[0][0]']      \n",
            " malization)                                                                                      \n",
            "                                                                                                  \n",
            " block_2_depthwise_relu (ReLU)  (None, 56, 56, 144)  0           ['block_2_depthwise_BN[0][0]']   \n",
            "                                                                                                  \n",
            " block_2_project (Conv2D)       (None, 56, 56, 24)   3456        ['block_2_depthwise_relu[0][0]'] \n",
            "                                                                                                  \n",
            " block_2_project_BN (BatchNorma  (None, 56, 56, 24)  96          ['block_2_project[0][0]']        \n",
            " lization)                                                                                        \n",
            "                                                                                                  \n",
            " block_2_add (Add)              (None, 56, 56, 24)   0           ['block_1_project_BN[0][0]',     \n",
            "                                                                  'block_2_project_BN[0][0]']     \n",
            "                                                                                                  \n",
            " block_3_expand (Conv2D)        (None, 56, 56, 144)  3456        ['block_2_add[0][0]']            \n",
            "                                                                                                  \n",
            " block_3_expand_BN (BatchNormal  (None, 56, 56, 144)  576        ['block_3_expand[0][0]']         \n",
            " ization)                                                                                         \n",
            "                                                                                                  \n",
            " block_3_expand_relu (ReLU)     (None, 56, 56, 144)  0           ['block_3_expand_BN[0][0]']      \n",
            "                                                                                                  \n",
            " block_3_pad (ZeroPadding2D)    (None, 57, 57, 144)  0           ['block_3_expand_relu[0][0]']    \n",
            "                                                                                                  \n",
            " block_3_depthwise (DepthwiseCo  (None, 28, 28, 144)  1296       ['block_3_pad[0][0]']            \n",
            " nv2D)                                                                                            \n",
            "                                                                                                  \n",
            " block_3_depthwise_BN (BatchNor  (None, 28, 28, 144)  576        ['block_3_depthwise[0][0]']      \n",
            " malization)                                                                                      \n",
            "                                                                                                  \n",
            " block_3_depthwise_relu (ReLU)  (None, 28, 28, 144)  0           ['block_3_depthwise_BN[0][0]']   \n",
            "                                                                                                  \n",
            " block_3_project (Conv2D)       (None, 28, 28, 32)   4608        ['block_3_depthwise_relu[0][0]'] \n",
            "                                                                                                  \n",
            " block_3_project_BN (BatchNorma  (None, 28, 28, 32)  128         ['block_3_project[0][0]']        \n",
            " lization)                                                                                        \n",
            "                                                                                                  \n",
            " block_4_expand (Conv2D)        (None, 28, 28, 192)  6144        ['block_3_project_BN[0][0]']     \n",
            "                                                                                                  \n",
            " block_4_expand_BN (BatchNormal  (None, 28, 28, 192)  768        ['block_4_expand[0][0]']         \n",
            " ization)                                                                                         \n",
            "                                                                                                  \n",
            " block_4_expand_relu (ReLU)     (None, 28, 28, 192)  0           ['block_4_expand_BN[0][0]']      \n",
            "                                                                                                  \n",
            " block_4_depthwise (DepthwiseCo  (None, 28, 28, 192)  1728       ['block_4_expand_relu[0][0]']    \n",
            " nv2D)                                                                                            \n",
            "                                                                                                  \n",
            " block_4_depthwise_BN (BatchNor  (None, 28, 28, 192)  768        ['block_4_depthwise[0][0]']      \n",
            " malization)                                                                                      \n",
            "                                                                                                  \n",
            " block_4_depthwise_relu (ReLU)  (None, 28, 28, 192)  0           ['block_4_depthwise_BN[0][0]']   \n",
            "                                                                                                  \n",
            " block_4_project (Conv2D)       (None, 28, 28, 32)   6144        ['block_4_depthwise_relu[0][0]'] \n",
            "                                                                                                  \n",
            " block_4_project_BN (BatchNorma  (None, 28, 28, 32)  128         ['block_4_project[0][0]']        \n",
            " lization)                                                                                        \n",
            "                                                                                                  \n",
            " block_4_add (Add)              (None, 28, 28, 32)   0           ['block_3_project_BN[0][0]',     \n",
            "                                                                  'block_4_project_BN[0][0]']     \n",
            "                                                                                                  \n",
            " block_5_expand (Conv2D)        (None, 28, 28, 192)  6144        ['block_4_add[0][0]']            \n",
            "                                                                                                  \n",
            " block_5_expand_BN (BatchNormal  (None, 28, 28, 192)  768        ['block_5_expand[0][0]']         \n",
            " ization)                                                                                         \n",
            "                                                                                                  \n",
            " block_5_expand_relu (ReLU)     (None, 28, 28, 192)  0           ['block_5_expand_BN[0][0]']      \n",
            "                                                                                                  \n",
            " block_5_depthwise (DepthwiseCo  (None, 28, 28, 192)  1728       ['block_5_expand_relu[0][0]']    \n",
            " nv2D)                                                                                            \n",
            "                                                                                                  \n",
            " block_5_depthwise_BN (BatchNor  (None, 28, 28, 192)  768        ['block_5_depthwise[0][0]']      \n",
            " malization)                                                                                      \n",
            "                                                                                                  \n",
            " block_5_depthwise_relu (ReLU)  (None, 28, 28, 192)  0           ['block_5_depthwise_BN[0][0]']   \n",
            "                                                                                                  \n",
            " block_5_project (Conv2D)       (None, 28, 28, 32)   6144        ['block_5_depthwise_relu[0][0]'] \n",
            "                                                                                                  \n",
            " block_5_project_BN (BatchNorma  (None, 28, 28, 32)  128         ['block_5_project[0][0]']        \n",
            " lization)                                                                                        \n",
            "                                                                                                  \n",
            " block_5_add (Add)              (None, 28, 28, 32)   0           ['block_4_add[0][0]',            \n",
            "                                                                  'block_5_project_BN[0][0]']     \n",
            "                                                                                                  \n",
            " block_6_expand (Conv2D)        (None, 28, 28, 192)  6144        ['block_5_add[0][0]']            \n",
            "                                                                                                  \n",
            " block_6_expand_BN (BatchNormal  (None, 28, 28, 192)  768        ['block_6_expand[0][0]']         \n",
            " ization)                                                                                         \n",
            "                                                                                                  \n",
            " block_6_expand_relu (ReLU)     (None, 28, 28, 192)  0           ['block_6_expand_BN[0][0]']      \n",
            "                                                                                                  \n",
            " block_6_pad (ZeroPadding2D)    (None, 29, 29, 192)  0           ['block_6_expand_relu[0][0]']    \n",
            "                                                                                                  \n",
            " block_6_depthwise (DepthwiseCo  (None, 14, 14, 192)  1728       ['block_6_pad[0][0]']            \n",
            " nv2D)                                                                                            \n",
            "                                                                                                  \n",
            " block_6_depthwise_BN (BatchNor  (None, 14, 14, 192)  768        ['block_6_depthwise[0][0]']      \n",
            " malization)                                                                                      \n",
            "                                                                                                  \n",
            " block_6_depthwise_relu (ReLU)  (None, 14, 14, 192)  0           ['block_6_depthwise_BN[0][0]']   \n",
            "                                                                                                  \n",
            " block_6_project (Conv2D)       (None, 14, 14, 64)   12288       ['block_6_depthwise_relu[0][0]'] \n",
            "                                                                                                  \n",
            " block_6_project_BN (BatchNorma  (None, 14, 14, 64)  256         ['block_6_project[0][0]']        \n",
            " lization)                                                                                        \n",
            "                                                                                                  \n",
            " block_7_expand (Conv2D)        (None, 14, 14, 384)  24576       ['block_6_project_BN[0][0]']     \n",
            "                                                                                                  \n",
            " block_7_expand_BN (BatchNormal  (None, 14, 14, 384)  1536       ['block_7_expand[0][0]']         \n",
            " ization)                                                                                         \n",
            "                                                                                                  \n",
            " block_7_expand_relu (ReLU)     (None, 14, 14, 384)  0           ['block_7_expand_BN[0][0]']      \n",
            "                                                                                                  \n",
            " block_7_depthwise (DepthwiseCo  (None, 14, 14, 384)  3456       ['block_7_expand_relu[0][0]']    \n",
            " nv2D)                                                                                            \n",
            "                                                                                                  \n",
            " block_7_depthwise_BN (BatchNor  (None, 14, 14, 384)  1536       ['block_7_depthwise[0][0]']      \n",
            " malization)                                                                                      \n",
            "                                                                                                  \n",
            " block_7_depthwise_relu (ReLU)  (None, 14, 14, 384)  0           ['block_7_depthwise_BN[0][0]']   \n",
            "                                                                                                  \n",
            " block_7_project (Conv2D)       (None, 14, 14, 64)   24576       ['block_7_depthwise_relu[0][0]'] \n",
            "                                                                                                  \n",
            " block_7_project_BN (BatchNorma  (None, 14, 14, 64)  256         ['block_7_project[0][0]']        \n",
            " lization)                                                                                        \n",
            "                                                                                                  \n",
            " block_7_add (Add)              (None, 14, 14, 64)   0           ['block_6_project_BN[0][0]',     \n",
            "                                                                  'block_7_project_BN[0][0]']     \n",
            "                                                                                                  \n",
            " block_8_expand (Conv2D)        (None, 14, 14, 384)  24576       ['block_7_add[0][0]']            \n",
            "                                                                                                  \n",
            " block_8_expand_BN (BatchNormal  (None, 14, 14, 384)  1536       ['block_8_expand[0][0]']         \n",
            " ization)                                                                                         \n",
            "                                                                                                  \n",
            " block_8_expand_relu (ReLU)     (None, 14, 14, 384)  0           ['block_8_expand_BN[0][0]']      \n",
            "                                                                                                  \n",
            " block_8_depthwise (DepthwiseCo  (None, 14, 14, 384)  3456       ['block_8_expand_relu[0][0]']    \n",
            " nv2D)                                                                                            \n",
            "                                                                                                  \n",
            " block_8_depthwise_BN (BatchNor  (None, 14, 14, 384)  1536       ['block_8_depthwise[0][0]']      \n",
            " malization)                                                                                      \n",
            "                                                                                                  \n",
            " block_8_depthwise_relu (ReLU)  (None, 14, 14, 384)  0           ['block_8_depthwise_BN[0][0]']   \n",
            "                                                                                                  \n",
            " block_8_project (Conv2D)       (None, 14, 14, 64)   24576       ['block_8_depthwise_relu[0][0]'] \n",
            "                                                                                                  \n",
            " block_8_project_BN (BatchNorma  (None, 14, 14, 64)  256         ['block_8_project[0][0]']        \n",
            " lization)                                                                                        \n",
            "                                                                                                  \n",
            " block_8_add (Add)              (None, 14, 14, 64)   0           ['block_7_add[0][0]',            \n",
            "                                                                  'block_8_project_BN[0][0]']     \n",
            "                                                                                                  \n",
            " block_9_expand (Conv2D)        (None, 14, 14, 384)  24576       ['block_8_add[0][0]']            \n",
            "                                                                                                  \n",
            " block_9_expand_BN (BatchNormal  (None, 14, 14, 384)  1536       ['block_9_expand[0][0]']         \n",
            " ization)                                                                                         \n",
            "                                                                                                  \n",
            " block_9_expand_relu (ReLU)     (None, 14, 14, 384)  0           ['block_9_expand_BN[0][0]']      \n",
            "                                                                                                  \n",
            " block_9_depthwise (DepthwiseCo  (None, 14, 14, 384)  3456       ['block_9_expand_relu[0][0]']    \n",
            " nv2D)                                                                                            \n",
            "                                                                                                  \n",
            " block_9_depthwise_BN (BatchNor  (None, 14, 14, 384)  1536       ['block_9_depthwise[0][0]']      \n",
            " malization)                                                                                      \n",
            "                                                                                                  \n",
            " block_9_depthwise_relu (ReLU)  (None, 14, 14, 384)  0           ['block_9_depthwise_BN[0][0]']   \n",
            "                                                                                                  \n",
            " block_9_project (Conv2D)       (None, 14, 14, 64)   24576       ['block_9_depthwise_relu[0][0]'] \n",
            "                                                                                                  \n",
            " block_9_project_BN (BatchNorma  (None, 14, 14, 64)  256         ['block_9_project[0][0]']        \n",
            " lization)                                                                                        \n",
            "                                                                                                  \n",
            " block_9_add (Add)              (None, 14, 14, 64)   0           ['block_8_add[0][0]',            \n",
            "                                                                  'block_9_project_BN[0][0]']     \n",
            "                                                                                                  \n",
            " block_10_expand (Conv2D)       (None, 14, 14, 384)  24576       ['block_9_add[0][0]']            \n",
            "                                                                                                  \n",
            " block_10_expand_BN (BatchNorma  (None, 14, 14, 384)  1536       ['block_10_expand[0][0]']        \n",
            " lization)                                                                                        \n",
            "                                                                                                  \n",
            " block_10_expand_relu (ReLU)    (None, 14, 14, 384)  0           ['block_10_expand_BN[0][0]']     \n",
            "                                                                                                  \n",
            " block_10_depthwise (DepthwiseC  (None, 14, 14, 384)  3456       ['block_10_expand_relu[0][0]']   \n",
            " onv2D)                                                                                           \n",
            "                                                                                                  \n",
            " block_10_depthwise_BN (BatchNo  (None, 14, 14, 384)  1536       ['block_10_depthwise[0][0]']     \n",
            " rmalization)                                                                                     \n",
            "                                                                                                  \n",
            " block_10_depthwise_relu (ReLU)  (None, 14, 14, 384)  0          ['block_10_depthwise_BN[0][0]']  \n",
            "                                                                                                  \n",
            " block_10_project (Conv2D)      (None, 14, 14, 96)   36864       ['block_10_depthwise_relu[0][0]']\n",
            "                                                                                                  \n",
            " block_10_project_BN (BatchNorm  (None, 14, 14, 96)  384         ['block_10_project[0][0]']       \n",
            " alization)                                                                                       \n",
            "                                                                                                  \n",
            " block_11_expand (Conv2D)       (None, 14, 14, 576)  55296       ['block_10_project_BN[0][0]']    \n",
            "                                                                                                  \n",
            " block_11_expand_BN (BatchNorma  (None, 14, 14, 576)  2304       ['block_11_expand[0][0]']        \n",
            " lization)                                                                                        \n",
            "                                                                                                  \n",
            " block_11_expand_relu (ReLU)    (None, 14, 14, 576)  0           ['block_11_expand_BN[0][0]']     \n",
            "                                                                                                  \n",
            " block_11_depthwise (DepthwiseC  (None, 14, 14, 576)  5184       ['block_11_expand_relu[0][0]']   \n",
            " onv2D)                                                                                           \n",
            "                                                                                                  \n",
            " block_11_depthwise_BN (BatchNo  (None, 14, 14, 576)  2304       ['block_11_depthwise[0][0]']     \n",
            " rmalization)                                                                                     \n",
            "                                                                                                  \n",
            " block_11_depthwise_relu (ReLU)  (None, 14, 14, 576)  0          ['block_11_depthwise_BN[0][0]']  \n",
            "                                                                                                  \n",
            " block_11_project (Conv2D)      (None, 14, 14, 96)   55296       ['block_11_depthwise_relu[0][0]']\n",
            "                                                                                                  \n",
            " block_11_project_BN (BatchNorm  (None, 14, 14, 96)  384         ['block_11_project[0][0]']       \n",
            " alization)                                                                                       \n",
            "                                                                                                  \n",
            " block_11_add (Add)             (None, 14, 14, 96)   0           ['block_10_project_BN[0][0]',    \n",
            "                                                                  'block_11_project_BN[0][0]']    \n",
            "                                                                                                  \n",
            " block_12_expand (Conv2D)       (None, 14, 14, 576)  55296       ['block_11_add[0][0]']           \n",
            "                                                                                                  \n",
            " block_12_expand_BN (BatchNorma  (None, 14, 14, 576)  2304       ['block_12_expand[0][0]']        \n",
            " lization)                                                                                        \n",
            "                                                                                                  \n",
            " block_12_expand_relu (ReLU)    (None, 14, 14, 576)  0           ['block_12_expand_BN[0][0]']     \n",
            "                                                                                                  \n",
            " block_12_depthwise (DepthwiseC  (None, 14, 14, 576)  5184       ['block_12_expand_relu[0][0]']   \n",
            " onv2D)                                                                                           \n",
            "                                                                                                  \n",
            " block_12_depthwise_BN (BatchNo  (None, 14, 14, 576)  2304       ['block_12_depthwise[0][0]']     \n",
            " rmalization)                                                                                     \n",
            "                                                                                                  \n",
            " block_12_depthwise_relu (ReLU)  (None, 14, 14, 576)  0          ['block_12_depthwise_BN[0][0]']  \n",
            "                                                                                                  \n",
            " block_12_project (Conv2D)      (None, 14, 14, 96)   55296       ['block_12_depthwise_relu[0][0]']\n",
            "                                                                                                  \n",
            " block_12_project_BN (BatchNorm  (None, 14, 14, 96)  384         ['block_12_project[0][0]']       \n",
            " alization)                                                                                       \n",
            "                                                                                                  \n",
            " block_12_add (Add)             (None, 14, 14, 96)   0           ['block_11_add[0][0]',           \n",
            "                                                                  'block_12_project_BN[0][0]']    \n",
            "                                                                                                  \n",
            " block_13_expand (Conv2D)       (None, 14, 14, 576)  55296       ['block_12_add[0][0]']           \n",
            "                                                                                                  \n",
            " block_13_expand_BN (BatchNorma  (None, 14, 14, 576)  2304       ['block_13_expand[0][0]']        \n",
            " lization)                                                                                        \n",
            "                                                                                                  \n",
            " block_13_expand_relu (ReLU)    (None, 14, 14, 576)  0           ['block_13_expand_BN[0][0]']     \n",
            "                                                                                                  \n",
            " block_13_pad (ZeroPadding2D)   (None, 15, 15, 576)  0           ['block_13_expand_relu[0][0]']   \n",
            "                                                                                                  \n",
            " block_13_depthwise (DepthwiseC  (None, 7, 7, 576)   5184        ['block_13_pad[0][0]']           \n",
            " onv2D)                                                                                           \n",
            "                                                                                                  \n",
            " block_13_depthwise_BN (BatchNo  (None, 7, 7, 576)   2304        ['block_13_depthwise[0][0]']     \n",
            " rmalization)                                                                                     \n",
            "                                                                                                  \n",
            " block_13_depthwise_relu (ReLU)  (None, 7, 7, 576)   0           ['block_13_depthwise_BN[0][0]']  \n",
            "                                                                                                  \n",
            " block_13_project (Conv2D)      (None, 7, 7, 160)    92160       ['block_13_depthwise_relu[0][0]']\n",
            "                                                                                                  \n",
            " block_13_project_BN (BatchNorm  (None, 7, 7, 160)   640         ['block_13_project[0][0]']       \n",
            " alization)                                                                                       \n",
            "                                                                                                  \n",
            " block_14_expand (Conv2D)       (None, 7, 7, 960)    153600      ['block_13_project_BN[0][0]']    \n",
            "                                                                                                  \n",
            " block_14_expand_BN (BatchNorma  (None, 7, 7, 960)   3840        ['block_14_expand[0][0]']        \n",
            " lization)                                                                                        \n",
            "                                                                                                  \n",
            " block_14_expand_relu (ReLU)    (None, 7, 7, 960)    0           ['block_14_expand_BN[0][0]']     \n",
            "                                                                                                  \n",
            " block_14_depthwise (DepthwiseC  (None, 7, 7, 960)   8640        ['block_14_expand_relu[0][0]']   \n",
            " onv2D)                                                                                           \n",
            "                                                                                                  \n",
            " block_14_depthwise_BN (BatchNo  (None, 7, 7, 960)   3840        ['block_14_depthwise[0][0]']     \n",
            " rmalization)                                                                                     \n",
            "                                                                                                  \n",
            " block_14_depthwise_relu (ReLU)  (None, 7, 7, 960)   0           ['block_14_depthwise_BN[0][0]']  \n",
            "                                                                                                  \n",
            " block_14_project (Conv2D)      (None, 7, 7, 160)    153600      ['block_14_depthwise_relu[0][0]']\n",
            "                                                                                                  \n",
            " block_14_project_BN (BatchNorm  (None, 7, 7, 160)   640         ['block_14_project[0][0]']       \n",
            " alization)                                                                                       \n",
            "                                                                                                  \n",
            " block_14_add (Add)             (None, 7, 7, 160)    0           ['block_13_project_BN[0][0]',    \n",
            "                                                                  'block_14_project_BN[0][0]']    \n",
            "                                                                                                  \n",
            " block_15_expand (Conv2D)       (None, 7, 7, 960)    153600      ['block_14_add[0][0]']           \n",
            "                                                                                                  \n",
            " block_15_expand_BN (BatchNorma  (None, 7, 7, 960)   3840        ['block_15_expand[0][0]']        \n",
            " lization)                                                                                        \n",
            "                                                                                                  \n",
            " block_15_expand_relu (ReLU)    (None, 7, 7, 960)    0           ['block_15_expand_BN[0][0]']     \n",
            "                                                                                                  \n",
            " block_15_depthwise (DepthwiseC  (None, 7, 7, 960)   8640        ['block_15_expand_relu[0][0]']   \n",
            " onv2D)                                                                                           \n",
            "                                                                                                  \n",
            " block_15_depthwise_BN (BatchNo  (None, 7, 7, 960)   3840        ['block_15_depthwise[0][0]']     \n",
            " rmalization)                                                                                     \n",
            "                                                                                                  \n",
            " block_15_depthwise_relu (ReLU)  (None, 7, 7, 960)   0           ['block_15_depthwise_BN[0][0]']  \n",
            "                                                                                                  \n",
            " block_15_project (Conv2D)      (None, 7, 7, 160)    153600      ['block_15_depthwise_relu[0][0]']\n",
            "                                                                                                  \n",
            " block_15_project_BN (BatchNorm  (None, 7, 7, 160)   640         ['block_15_project[0][0]']       \n",
            " alization)                                                                                       \n",
            "                                                                                                  \n",
            " block_15_add (Add)             (None, 7, 7, 160)    0           ['block_14_add[0][0]',           \n",
            "                                                                  'block_15_project_BN[0][0]']    \n",
            "                                                                                                  \n",
            " block_16_expand (Conv2D)       (None, 7, 7, 960)    153600      ['block_15_add[0][0]']           \n",
            "                                                                                                  \n",
            " block_16_expand_BN (BatchNorma  (None, 7, 7, 960)   3840        ['block_16_expand[0][0]']        \n",
            " lization)                                                                                        \n",
            "                                                                                                  \n",
            " block_16_expand_relu (ReLU)    (None, 7, 7, 960)    0           ['block_16_expand_BN[0][0]']     \n",
            "                                                                                                  \n",
            " block_16_depthwise (DepthwiseC  (None, 7, 7, 960)   8640        ['block_16_expand_relu[0][0]']   \n",
            " onv2D)                                                                                           \n",
            "                                                                                                  \n",
            " block_16_depthwise_BN (BatchNo  (None, 7, 7, 960)   3840        ['block_16_depthwise[0][0]']     \n",
            " rmalization)                                                                                     \n",
            "                                                                                                  \n",
            " block_16_depthwise_relu (ReLU)  (None, 7, 7, 960)   0           ['block_16_depthwise_BN[0][0]']  \n",
            "                                                                                                  \n",
            " block_16_project (Conv2D)      (None, 7, 7, 320)    307200      ['block_16_depthwise_relu[0][0]']\n",
            "                                                                                                  \n",
            " block_16_project_BN (BatchNorm  (None, 7, 7, 320)   1280        ['block_16_project[0][0]']       \n",
            " alization)                                                                                       \n",
            "                                                                                                  \n",
            " Conv_1 (Conv2D)                (None, 7, 7, 1280)   409600      ['block_16_project_BN[0][0]']    \n",
            "                                                                                                  \n",
            " Conv_1_bn (BatchNormalization)  (None, 7, 7, 1280)  5120        ['Conv_1[0][0]']                 \n",
            "                                                                                                  \n",
            " out_relu (ReLU)                (None, 7, 7, 1280)   0           ['Conv_1_bn[0][0]']              \n",
            "                                                                                                  \n",
            " global_average_pooling2d (Glob  (None, 1280)        0           ['out_relu[0][0]']               \n",
            " alAveragePooling2D)                                                                              \n",
            "                                                                                                  \n",
            " dense (Dense)                  (None, 128)          163968      ['global_average_pooling2d[0][0]'\n",
            "                                                                 ]                                \n",
            "                                                                                                  \n",
            " activation (Activation)        (None, 128)          0           ['dense[0][0]']                  \n",
            "                                                                                                  \n",
            " dense_1 (Dense)                (None, 64)           8256        ['activation[0][0]']             \n",
            "                                                                                                  \n",
            " activation_1 (Activation)      (None, 64)           0           ['dense_1[0][0]']                \n",
            "                                                                                                  \n",
            " dense_2 (Dense)                (None, 5)            325         ['activation_1[0][0]']           \n",
            "                                                                                                  \n",
            "==================================================================================================\n",
            "Total params: 2,430,533\n",
            "Trainable params: 2,396,421\n",
            "Non-trainable params: 34,112\n",
            "__________________________________________________________________________________________________\n"
          ]
        }
      ],
      "source": [
        "new_model.summary()"
      ],
      "id": "0Va52JgZacnW"
    },
    {
      "cell_type": "code",
      "execution_count": 31,
      "metadata": {
        "id": "a0rNQHJdWRWb"
      },
      "outputs": [],
      "source": [
        "new_model.compile(loss=\"sparse_categorical_crossentropy\", optimizer = \"adam\", metrics = [\"accuracy\"])"
      ],
      "id": "a0rNQHJdWRWb"
    },
    {
      "cell_type": "code",
      "execution_count": 70,
      "metadata": {
        "id": "8CkILM0WbefS"
      },
      "outputs": [],
      "source": [
        "#Y[7000]"
      ],
      "id": "8CkILM0WbefS"
    },
    {
      "cell_type": "code",
      "execution_count": 32,
      "metadata": {
        "id": "HEk1YXRLbPOa",
        "colab": {
          "base_uri": "https://localhost:8080/",
          "height": 1000
        },
        "outputId": "8a4e753c-a349-4049-9aca-e88d6bb7f722"
      },
      "outputs": [
        {
          "output_type": "stream",
          "name": "stdout",
          "text": [
            "Epoch 1/60\n",
            "79/79 [==============================] - 554s 7s/step - loss: 1.2003 - accuracy: 0.5156 - val_loss: 3.9461 - val_accuracy: 0.2976\n",
            "Epoch 2/60\n",
            "79/79 [==============================] - 535s 7s/step - loss: 0.9078 - accuracy: 0.6608 - val_loss: 3.3921 - val_accuracy: 0.3747\n",
            "Epoch 3/60\n",
            "79/79 [==============================] - 545s 7s/step - loss: 0.7497 - accuracy: 0.7148 - val_loss: 7.6430 - val_accuracy: 0.2000\n",
            "Epoch 4/60\n",
            "79/79 [==============================] - 541s 7s/step - loss: 0.7225 - accuracy: 0.7256 - val_loss: 5.4283 - val_accuracy: 0.3964\n",
            "Epoch 5/60\n",
            "79/79 [==============================] - 558s 7s/step - loss: 0.5631 - accuracy: 0.7884 - val_loss: 5.3412 - val_accuracy: 0.4157\n",
            "Epoch 6/60\n",
            "79/79 [==============================] - 542s 7s/step - loss: 0.5251 - accuracy: 0.8124 - val_loss: 14.1526 - val_accuracy: 0.2024\n",
            "Epoch 7/60\n",
            "79/79 [==============================] - 535s 7s/step - loss: 0.4171 - accuracy: 0.8476 - val_loss: 4.9774 - val_accuracy: 0.3904\n",
            "Epoch 8/60\n",
            "79/79 [==============================] - 542s 7s/step - loss: 0.3867 - accuracy: 0.8600 - val_loss: 5.7030 - val_accuracy: 0.3120\n",
            "Epoch 9/60\n",
            "79/79 [==============================] - 549s 7s/step - loss: 0.4274 - accuracy: 0.8428 - val_loss: 3.1999 - val_accuracy: 0.4325\n",
            "Epoch 10/60\n",
            "79/79 [==============================] - 576s 7s/step - loss: 0.2617 - accuracy: 0.9056 - val_loss: 4.2921 - val_accuracy: 0.4036\n",
            "Epoch 11/60\n",
            "79/79 [==============================] - 554s 7s/step - loss: 0.2603 - accuracy: 0.9092 - val_loss: 7.4850 - val_accuracy: 0.3554\n",
            "Epoch 12/60\n",
            "79/79 [==============================] - 553s 7s/step - loss: 0.2882 - accuracy: 0.8976 - val_loss: 18.3408 - val_accuracy: 0.2000\n",
            "Epoch 13/60\n",
            "79/79 [==============================] - 553s 7s/step - loss: 0.2757 - accuracy: 0.9052 - val_loss: 6.3381 - val_accuracy: 0.2976\n",
            "Epoch 14/60\n",
            "79/79 [==============================] - 547s 7s/step - loss: 0.2393 - accuracy: 0.9204 - val_loss: 6.4373 - val_accuracy: 0.3867\n",
            "Epoch 15/60\n",
            "79/79 [==============================] - 543s 7s/step - loss: 0.1638 - accuracy: 0.9440 - val_loss: 7.1471 - val_accuracy: 0.3651\n",
            "Epoch 16/60\n",
            "79/79 [==============================] - 563s 7s/step - loss: 0.2734 - accuracy: 0.9076 - val_loss: 8.4070 - val_accuracy: 0.3120\n",
            "Epoch 17/60\n",
            "79/79 [==============================] - 544s 7s/step - loss: 0.1150 - accuracy: 0.9632 - val_loss: 8.2978 - val_accuracy: 0.3446\n",
            "Epoch 18/60\n",
            "79/79 [==============================] - 541s 7s/step - loss: 0.1220 - accuracy: 0.9592 - val_loss: 13.7238 - val_accuracy: 0.2277\n",
            "Epoch 19/60\n",
            "79/79 [==============================] - 537s 7s/step - loss: 0.1143 - accuracy: 0.9636 - val_loss: 8.6505 - val_accuracy: 0.3241\n",
            "Epoch 20/60\n",
            "79/79 [==============================] - 543s 7s/step - loss: 0.2166 - accuracy: 0.9280 - val_loss: 6.7136 - val_accuracy: 0.3398\n",
            "Epoch 21/60\n",
            "18/79 [=====>........................] - ETA: 6:48 - loss: 0.1232 - accuracy: 0.9549"
          ]
        },
        {
          "output_type": "error",
          "ename": "KeyboardInterrupt",
          "evalue": "ignored",
          "traceback": [
            "\u001b[0;31m---------------------------------------------------------------------------\u001b[0m",
            "\u001b[0;31mKeyboardInterrupt\u001b[0m                         Traceback (most recent call last)",
            "\u001b[0;32m<ipython-input-32-dbdc4ddb89cf>\u001b[0m in \u001b[0;36m<module>\u001b[0;34m\u001b[0m\n\u001b[0;32m----> 1\u001b[0;31m \u001b[0mnew_result\u001b[0m\u001b[0;34m=\u001b[0m\u001b[0mnew_model\u001b[0m\u001b[0;34m.\u001b[0m\u001b[0mfit\u001b[0m\u001b[0;34m(\u001b[0m\u001b[0mX_training\u001b[0m\u001b[0;34m,\u001b[0m \u001b[0mY_training\u001b[0m\u001b[0;34m,\u001b[0m \u001b[0mepochs\u001b[0m \u001b[0;34m=\u001b[0m \u001b[0;36m60\u001b[0m\u001b[0;34m,\u001b[0m \u001b[0mvalidation_data\u001b[0m\u001b[0;34m=\u001b[0m\u001b[0;34m(\u001b[0m\u001b[0mX_validation\u001b[0m\u001b[0;34m,\u001b[0m \u001b[0mY_validation\u001b[0m\u001b[0;34m)\u001b[0m\u001b[0;34m,\u001b[0m \u001b[0mbatch_size\u001b[0m\u001b[0;34m=\u001b[0m\u001b[0;36m32\u001b[0m\u001b[0;34m,\u001b[0m \u001b[0mshuffle\u001b[0m\u001b[0;34m=\u001b[0m\u001b[0;32mTrue\u001b[0m\u001b[0;34m)\u001b[0m\u001b[0;34m\u001b[0m\u001b[0;34m\u001b[0m\u001b[0m\n\u001b[0m",
            "\u001b[0;32m/usr/local/lib/python3.8/dist-packages/keras/utils/traceback_utils.py\u001b[0m in \u001b[0;36merror_handler\u001b[0;34m(*args, **kwargs)\u001b[0m\n\u001b[1;32m     62\u001b[0m     \u001b[0mfiltered_tb\u001b[0m \u001b[0;34m=\u001b[0m \u001b[0;32mNone\u001b[0m\u001b[0;34m\u001b[0m\u001b[0;34m\u001b[0m\u001b[0m\n\u001b[1;32m     63\u001b[0m     \u001b[0;32mtry\u001b[0m\u001b[0;34m:\u001b[0m\u001b[0;34m\u001b[0m\u001b[0;34m\u001b[0m\u001b[0m\n\u001b[0;32m---> 64\u001b[0;31m       \u001b[0;32mreturn\u001b[0m \u001b[0mfn\u001b[0m\u001b[0;34m(\u001b[0m\u001b[0;34m*\u001b[0m\u001b[0margs\u001b[0m\u001b[0;34m,\u001b[0m \u001b[0;34m**\u001b[0m\u001b[0mkwargs\u001b[0m\u001b[0;34m)\u001b[0m\u001b[0;34m\u001b[0m\u001b[0;34m\u001b[0m\u001b[0m\n\u001b[0m\u001b[1;32m     65\u001b[0m     \u001b[0;32mexcept\u001b[0m \u001b[0mException\u001b[0m \u001b[0;32mas\u001b[0m \u001b[0me\u001b[0m\u001b[0;34m:\u001b[0m  \u001b[0;31m# pylint: disable=broad-except\u001b[0m\u001b[0;34m\u001b[0m\u001b[0;34m\u001b[0m\u001b[0m\n\u001b[1;32m     66\u001b[0m       \u001b[0mfiltered_tb\u001b[0m \u001b[0;34m=\u001b[0m \u001b[0m_process_traceback_frames\u001b[0m\u001b[0;34m(\u001b[0m\u001b[0me\u001b[0m\u001b[0;34m.\u001b[0m\u001b[0m__traceback__\u001b[0m\u001b[0;34m)\u001b[0m\u001b[0;34m\u001b[0m\u001b[0;34m\u001b[0m\u001b[0m\n",
            "\u001b[0;32m/usr/local/lib/python3.8/dist-packages/keras/engine/training.py\u001b[0m in \u001b[0;36mfit\u001b[0;34m(self, x, y, batch_size, epochs, verbose, callbacks, validation_split, validation_data, shuffle, class_weight, sample_weight, initial_epoch, steps_per_epoch, validation_steps, validation_batch_size, validation_freq, max_queue_size, workers, use_multiprocessing)\u001b[0m\n\u001b[1;32m   1407\u001b[0m                 _r=1):\n\u001b[1;32m   1408\u001b[0m               \u001b[0mcallbacks\u001b[0m\u001b[0;34m.\u001b[0m\u001b[0mon_train_batch_begin\u001b[0m\u001b[0;34m(\u001b[0m\u001b[0mstep\u001b[0m\u001b[0;34m)\u001b[0m\u001b[0;34m\u001b[0m\u001b[0;34m\u001b[0m\u001b[0m\n\u001b[0;32m-> 1409\u001b[0;31m               \u001b[0mtmp_logs\u001b[0m \u001b[0;34m=\u001b[0m \u001b[0mself\u001b[0m\u001b[0;34m.\u001b[0m\u001b[0mtrain_function\u001b[0m\u001b[0;34m(\u001b[0m\u001b[0miterator\u001b[0m\u001b[0;34m)\u001b[0m\u001b[0;34m\u001b[0m\u001b[0;34m\u001b[0m\u001b[0m\n\u001b[0m\u001b[1;32m   1410\u001b[0m               \u001b[0;32mif\u001b[0m \u001b[0mdata_handler\u001b[0m\u001b[0;34m.\u001b[0m\u001b[0mshould_sync\u001b[0m\u001b[0;34m:\u001b[0m\u001b[0;34m\u001b[0m\u001b[0;34m\u001b[0m\u001b[0m\n\u001b[1;32m   1411\u001b[0m                 \u001b[0mcontext\u001b[0m\u001b[0;34m.\u001b[0m\u001b[0masync_wait\u001b[0m\u001b[0;34m(\u001b[0m\u001b[0;34m)\u001b[0m\u001b[0;34m\u001b[0m\u001b[0;34m\u001b[0m\u001b[0m\n",
            "\u001b[0;32m/usr/local/lib/python3.8/dist-packages/tensorflow/python/util/traceback_utils.py\u001b[0m in \u001b[0;36merror_handler\u001b[0;34m(*args, **kwargs)\u001b[0m\n\u001b[1;32m    148\u001b[0m     \u001b[0mfiltered_tb\u001b[0m \u001b[0;34m=\u001b[0m \u001b[0;32mNone\u001b[0m\u001b[0;34m\u001b[0m\u001b[0;34m\u001b[0m\u001b[0m\n\u001b[1;32m    149\u001b[0m     \u001b[0;32mtry\u001b[0m\u001b[0;34m:\u001b[0m\u001b[0;34m\u001b[0m\u001b[0;34m\u001b[0m\u001b[0m\n\u001b[0;32m--> 150\u001b[0;31m       \u001b[0;32mreturn\u001b[0m \u001b[0mfn\u001b[0m\u001b[0;34m(\u001b[0m\u001b[0;34m*\u001b[0m\u001b[0margs\u001b[0m\u001b[0;34m,\u001b[0m \u001b[0;34m**\u001b[0m\u001b[0mkwargs\u001b[0m\u001b[0;34m)\u001b[0m\u001b[0;34m\u001b[0m\u001b[0;34m\u001b[0m\u001b[0m\n\u001b[0m\u001b[1;32m    151\u001b[0m     \u001b[0;32mexcept\u001b[0m \u001b[0mException\u001b[0m \u001b[0;32mas\u001b[0m \u001b[0me\u001b[0m\u001b[0;34m:\u001b[0m\u001b[0;34m\u001b[0m\u001b[0;34m\u001b[0m\u001b[0m\n\u001b[1;32m    152\u001b[0m       \u001b[0mfiltered_tb\u001b[0m \u001b[0;34m=\u001b[0m \u001b[0m_process_traceback_frames\u001b[0m\u001b[0;34m(\u001b[0m\u001b[0me\u001b[0m\u001b[0;34m.\u001b[0m\u001b[0m__traceback__\u001b[0m\u001b[0;34m)\u001b[0m\u001b[0;34m\u001b[0m\u001b[0;34m\u001b[0m\u001b[0m\n",
            "\u001b[0;32m/usr/local/lib/python3.8/dist-packages/tensorflow/python/eager/def_function.py\u001b[0m in \u001b[0;36m__call__\u001b[0;34m(self, *args, **kwds)\u001b[0m\n\u001b[1;32m    913\u001b[0m \u001b[0;34m\u001b[0m\u001b[0m\n\u001b[1;32m    914\u001b[0m       \u001b[0;32mwith\u001b[0m \u001b[0mOptionalXlaContext\u001b[0m\u001b[0;34m(\u001b[0m\u001b[0mself\u001b[0m\u001b[0;34m.\u001b[0m\u001b[0m_jit_compile\u001b[0m\u001b[0;34m)\u001b[0m\u001b[0;34m:\u001b[0m\u001b[0;34m\u001b[0m\u001b[0;34m\u001b[0m\u001b[0m\n\u001b[0;32m--> 915\u001b[0;31m         \u001b[0mresult\u001b[0m \u001b[0;34m=\u001b[0m \u001b[0mself\u001b[0m\u001b[0;34m.\u001b[0m\u001b[0m_call\u001b[0m\u001b[0;34m(\u001b[0m\u001b[0;34m*\u001b[0m\u001b[0margs\u001b[0m\u001b[0;34m,\u001b[0m \u001b[0;34m**\u001b[0m\u001b[0mkwds\u001b[0m\u001b[0;34m)\u001b[0m\u001b[0;34m\u001b[0m\u001b[0;34m\u001b[0m\u001b[0m\n\u001b[0m\u001b[1;32m    916\u001b[0m \u001b[0;34m\u001b[0m\u001b[0m\n\u001b[1;32m    917\u001b[0m       \u001b[0mnew_tracing_count\u001b[0m \u001b[0;34m=\u001b[0m \u001b[0mself\u001b[0m\u001b[0;34m.\u001b[0m\u001b[0mexperimental_get_tracing_count\u001b[0m\u001b[0;34m(\u001b[0m\u001b[0;34m)\u001b[0m\u001b[0;34m\u001b[0m\u001b[0;34m\u001b[0m\u001b[0m\n",
            "\u001b[0;32m/usr/local/lib/python3.8/dist-packages/tensorflow/python/eager/def_function.py\u001b[0m in \u001b[0;36m_call\u001b[0;34m(self, *args, **kwds)\u001b[0m\n\u001b[1;32m    945\u001b[0m       \u001b[0;31m# In this case we have created variables on the first call, so we run the\u001b[0m\u001b[0;34m\u001b[0m\u001b[0;34m\u001b[0m\u001b[0;34m\u001b[0m\u001b[0m\n\u001b[1;32m    946\u001b[0m       \u001b[0;31m# defunned version which is guaranteed to never create variables.\u001b[0m\u001b[0;34m\u001b[0m\u001b[0;34m\u001b[0m\u001b[0;34m\u001b[0m\u001b[0m\n\u001b[0;32m--> 947\u001b[0;31m       \u001b[0;32mreturn\u001b[0m \u001b[0mself\u001b[0m\u001b[0;34m.\u001b[0m\u001b[0m_stateless_fn\u001b[0m\u001b[0;34m(\u001b[0m\u001b[0;34m*\u001b[0m\u001b[0margs\u001b[0m\u001b[0;34m,\u001b[0m \u001b[0;34m**\u001b[0m\u001b[0mkwds\u001b[0m\u001b[0;34m)\u001b[0m  \u001b[0;31m# pylint: disable=not-callable\u001b[0m\u001b[0;34m\u001b[0m\u001b[0;34m\u001b[0m\u001b[0m\n\u001b[0m\u001b[1;32m    948\u001b[0m     \u001b[0;32melif\u001b[0m \u001b[0mself\u001b[0m\u001b[0;34m.\u001b[0m\u001b[0m_stateful_fn\u001b[0m \u001b[0;32mis\u001b[0m \u001b[0;32mnot\u001b[0m \u001b[0;32mNone\u001b[0m\u001b[0;34m:\u001b[0m\u001b[0;34m\u001b[0m\u001b[0;34m\u001b[0m\u001b[0m\n\u001b[1;32m    949\u001b[0m       \u001b[0;31m# Release the lock early so that multiple threads can perform the call\u001b[0m\u001b[0;34m\u001b[0m\u001b[0;34m\u001b[0m\u001b[0;34m\u001b[0m\u001b[0m\n",
            "\u001b[0;32m/usr/local/lib/python3.8/dist-packages/tensorflow/python/eager/function.py\u001b[0m in \u001b[0;36m__call__\u001b[0;34m(self, *args, **kwargs)\u001b[0m\n\u001b[1;32m   2451\u001b[0m       (graph_function,\n\u001b[1;32m   2452\u001b[0m        filtered_flat_args) = self._maybe_define_function(args, kwargs)\n\u001b[0;32m-> 2453\u001b[0;31m     return graph_function._call_flat(\n\u001b[0m\u001b[1;32m   2454\u001b[0m         filtered_flat_args, captured_inputs=graph_function.captured_inputs)  # pylint: disable=protected-access\n\u001b[1;32m   2455\u001b[0m \u001b[0;34m\u001b[0m\u001b[0m\n",
            "\u001b[0;32m/usr/local/lib/python3.8/dist-packages/tensorflow/python/eager/function.py\u001b[0m in \u001b[0;36m_call_flat\u001b[0;34m(self, args, captured_inputs, cancellation_manager)\u001b[0m\n\u001b[1;32m   1858\u001b[0m         and executing_eagerly):\n\u001b[1;32m   1859\u001b[0m       \u001b[0;31m# No tape is watching; skip to running the function.\u001b[0m\u001b[0;34m\u001b[0m\u001b[0;34m\u001b[0m\u001b[0;34m\u001b[0m\u001b[0m\n\u001b[0;32m-> 1860\u001b[0;31m       return self._build_call_outputs(self._inference_function.call(\n\u001b[0m\u001b[1;32m   1861\u001b[0m           ctx, args, cancellation_manager=cancellation_manager))\n\u001b[1;32m   1862\u001b[0m     forward_backward = self._select_forward_and_backward_functions(\n",
            "\u001b[0;32m/usr/local/lib/python3.8/dist-packages/tensorflow/python/eager/function.py\u001b[0m in \u001b[0;36mcall\u001b[0;34m(self, ctx, args, cancellation_manager)\u001b[0m\n\u001b[1;32m    495\u001b[0m       \u001b[0;32mwith\u001b[0m \u001b[0m_InterpolateFunctionError\u001b[0m\u001b[0;34m(\u001b[0m\u001b[0mself\u001b[0m\u001b[0;34m)\u001b[0m\u001b[0;34m:\u001b[0m\u001b[0;34m\u001b[0m\u001b[0;34m\u001b[0m\u001b[0m\n\u001b[1;32m    496\u001b[0m         \u001b[0;32mif\u001b[0m \u001b[0mcancellation_manager\u001b[0m \u001b[0;32mis\u001b[0m \u001b[0;32mNone\u001b[0m\u001b[0;34m:\u001b[0m\u001b[0;34m\u001b[0m\u001b[0;34m\u001b[0m\u001b[0m\n\u001b[0;32m--> 497\u001b[0;31m           outputs = execute.execute(\n\u001b[0m\u001b[1;32m    498\u001b[0m               \u001b[0mstr\u001b[0m\u001b[0;34m(\u001b[0m\u001b[0mself\u001b[0m\u001b[0;34m.\u001b[0m\u001b[0msignature\u001b[0m\u001b[0;34m.\u001b[0m\u001b[0mname\u001b[0m\u001b[0;34m)\u001b[0m\u001b[0;34m,\u001b[0m\u001b[0;34m\u001b[0m\u001b[0;34m\u001b[0m\u001b[0m\n\u001b[1;32m    499\u001b[0m               \u001b[0mnum_outputs\u001b[0m\u001b[0;34m=\u001b[0m\u001b[0mself\u001b[0m\u001b[0;34m.\u001b[0m\u001b[0m_num_outputs\u001b[0m\u001b[0;34m,\u001b[0m\u001b[0;34m\u001b[0m\u001b[0;34m\u001b[0m\u001b[0m\n",
            "\u001b[0;32m/usr/local/lib/python3.8/dist-packages/tensorflow/python/eager/execute.py\u001b[0m in \u001b[0;36mquick_execute\u001b[0;34m(op_name, num_outputs, inputs, attrs, ctx, name)\u001b[0m\n\u001b[1;32m     52\u001b[0m   \u001b[0;32mtry\u001b[0m\u001b[0;34m:\u001b[0m\u001b[0;34m\u001b[0m\u001b[0;34m\u001b[0m\u001b[0m\n\u001b[1;32m     53\u001b[0m     \u001b[0mctx\u001b[0m\u001b[0;34m.\u001b[0m\u001b[0mensure_initialized\u001b[0m\u001b[0;34m(\u001b[0m\u001b[0;34m)\u001b[0m\u001b[0;34m\u001b[0m\u001b[0;34m\u001b[0m\u001b[0m\n\u001b[0;32m---> 54\u001b[0;31m     tensors = pywrap_tfe.TFE_Py_Execute(ctx._handle, device_name, op_name,\n\u001b[0m\u001b[1;32m     55\u001b[0m                                         inputs, attrs, num_outputs)\n\u001b[1;32m     56\u001b[0m   \u001b[0;32mexcept\u001b[0m \u001b[0mcore\u001b[0m\u001b[0;34m.\u001b[0m\u001b[0m_NotOkStatusException\u001b[0m \u001b[0;32mas\u001b[0m \u001b[0me\u001b[0m\u001b[0;34m:\u001b[0m\u001b[0;34m\u001b[0m\u001b[0;34m\u001b[0m\u001b[0m\n",
            "\u001b[0;31mKeyboardInterrupt\u001b[0m: "
          ]
        }
      ],
      "source": [
        " new_result=new_model.fit(X_training, Y_training, epochs = 60, validation_data=(X_validation, Y_validation), batch_size=32, shuffle=True)"
      ],
      "id": "HEk1YXRLbPOa"
    },
    {
      "cell_type": "code",
      "source": [
        "import matplotlib.pyplot as plt\n",
        "\n",
        "# summarize history for accuracy\n",
        "plt.plot(new_result.history['acc'])\n",
        "plt.plot(new_result.history['val_acc'])\n",
        "plt.title('model accuracy')\n",
        "plt.ylabel('accuracy')\n",
        "plt.xlabel('epoch')\n",
        "plt.legend(['train', 'test'], loc='upper left')\n",
        "plt.show()\n",
        "# summarize history for loss\n",
        "plt.plot(new_result.history['loss'])\n",
        "plt.plot(new_result.history['val_loss'])\n",
        "plt.title('model loss')\n",
        "plt.ylabel('loss')\n",
        "plt.xlabel('epoch')\n",
        "plt.legend(['train', 'test'], loc='upper left')\n",
        "plt.show()"
      ],
      "metadata": {
        "colab": {
          "base_uri": "https://localhost:8080/",
          "height": 248
        },
        "id": "1cdZg4eRbsh-",
        "outputId": "f3c1279a-7754-44de-b2bf-a002431f8c7b"
      },
      "id": "1cdZg4eRbsh-",
      "execution_count": 33,
      "outputs": [
        {
          "output_type": "error",
          "ename": "NameError",
          "evalue": "ignored",
          "traceback": [
            "\u001b[0;31m---------------------------------------------------------------------------\u001b[0m",
            "\u001b[0;31mNameError\u001b[0m                                 Traceback (most recent call last)",
            "\u001b[0;32m<ipython-input-33-7871cd5ab5cb>\u001b[0m in \u001b[0;36m<module>\u001b[0;34m\u001b[0m\n\u001b[1;32m      2\u001b[0m \u001b[0;34m\u001b[0m\u001b[0m\n\u001b[1;32m      3\u001b[0m \u001b[0;31m# summarize history for accuracy\u001b[0m\u001b[0;34m\u001b[0m\u001b[0;34m\u001b[0m\u001b[0;34m\u001b[0m\u001b[0m\n\u001b[0;32m----> 4\u001b[0;31m \u001b[0mplt\u001b[0m\u001b[0;34m.\u001b[0m\u001b[0mplot\u001b[0m\u001b[0;34m(\u001b[0m\u001b[0mnew_result\u001b[0m\u001b[0;34m.\u001b[0m\u001b[0mhistory\u001b[0m\u001b[0;34m[\u001b[0m\u001b[0;34m'acc'\u001b[0m\u001b[0;34m]\u001b[0m\u001b[0;34m)\u001b[0m\u001b[0;34m\u001b[0m\u001b[0;34m\u001b[0m\u001b[0m\n\u001b[0m\u001b[1;32m      5\u001b[0m \u001b[0mplt\u001b[0m\u001b[0;34m.\u001b[0m\u001b[0mplot\u001b[0m\u001b[0;34m(\u001b[0m\u001b[0mnew_result\u001b[0m\u001b[0;34m.\u001b[0m\u001b[0mhistory\u001b[0m\u001b[0;34m[\u001b[0m\u001b[0;34m'val_acc'\u001b[0m\u001b[0;34m]\u001b[0m\u001b[0;34m)\u001b[0m\u001b[0;34m\u001b[0m\u001b[0;34m\u001b[0m\u001b[0m\n\u001b[1;32m      6\u001b[0m \u001b[0mplt\u001b[0m\u001b[0;34m.\u001b[0m\u001b[0mtitle\u001b[0m\u001b[0;34m(\u001b[0m\u001b[0;34m'model accuracy'\u001b[0m\u001b[0;34m)\u001b[0m\u001b[0;34m\u001b[0m\u001b[0;34m\u001b[0m\u001b[0m\n",
            "\u001b[0;31mNameError\u001b[0m: name 'new_result' is not defined"
          ]
        }
      ]
    },
    {
      "cell_type": "code",
      "execution_count": null,
      "metadata": {
        "id": "zbkLv_b8a-rl"
      },
      "outputs": [],
      "source": [
        "new_model.save('mod_my_model_94p69.h5')"
      ],
      "id": "zbkLv_b8a-rl"
    },
    {
      "cell_type": "code",
      "execution_count": null,
      "metadata": {
        "id": "mhI51NyBbo20"
      },
      "outputs": [],
      "source": [
        "# 뭔 소리야!!!"
      ],
      "id": "mhI51NyBbo20"
    },
    {
      "cell_type": "code",
      "execution_count": null,
      "metadata": {
        "colab": {
          "base_uri": "https://localhost:8080/"
        },
        "id": "PsE8RjBuV38Y",
        "outputId": "55b2c19a-013d-452d-cb9c-c4be3977870e"
      },
      "outputs": [
        {
          "output_type": "stream",
          "name": "stdout",
          "text": [
            "Model: \"model_8\"\n",
            "__________________________________________________________________________________________________\n",
            " Layer (type)                   Output Shape         Param #     Connected to                     \n",
            "==================================================================================================\n",
            " input_7 (InputLayer)           [(None, 224, 224, 3  0           []                               \n",
            "                                )]                                                                \n",
            "                                                                                                  \n",
            " conv2d_4 (Conv2D)              (None, 112, 112, 32  864         ['input_7[0][0]']                \n",
            "                                )                                                                 \n",
            "                                                                                                  \n",
            " conv1_bn (BatchNormalization)  (None, 112, 112, 32  128         ['conv2d_4[0][0]']               \n",
            "                                )                                                                 \n",
            "                                                                                                  \n",
            " conv1_relu (ReLU)              (None, 112, 112, 32  0           ['conv1_bn[0][0]']               \n",
            "                                )                                                                 \n",
            "                                                                                                  \n",
            " block_1_depthwise_conv (Depthw  (None, 112, 112, 32  288        ['conv1_relu[0][0]']             \n",
            " iseConv2D)                     )                                                                 \n",
            "                                                                                                  \n",
            " block_1_dw_bn (BatchNormalizat  (None, 112, 112, 32  128        ['block_1_depthwise_conv[0][0]'] \n",
            " ion)                           )                                                                 \n",
            "                                                                                                  \n",
            " block_1_dw_relu (ReLU)         (None, 112, 112, 32  0           ['block_1_dw_bn[0][0]']          \n",
            "                                )                                                                 \n",
            "                                                                                                  \n",
            " block_1_compress (Conv2D)      (None, 112, 112, 16  512         ['block_1_dw_relu[0][0]']        \n",
            "                                )                                                                 \n",
            "                                                                                                  \n",
            " block_1_compress_bn (BatchNorm  (None, 112, 112, 16  64         ['block_1_compress[0][0]']       \n",
            " alization)                     )                                                                 \n",
            "                                                                                                  \n",
            " block_2_expand (Conv2D)        (None, 112, 112, 96  1536        ['block_1_compress_bn[0][0]']    \n",
            "                                )                                                                 \n",
            "                                                                                                  \n",
            " block_2_expand_bn (BatchNormal  (None, 112, 112, 96  384        ['block_2_expand[0][0]']         \n",
            " ization)                       )                                                                 \n",
            "                                                                                                  \n",
            " block_2_expand_relu (ReLU)     (None, 112, 112, 96  0           ['block_2_expand_bn[0][0]']      \n",
            "                                )                                                                 \n",
            "                                                                                                  \n",
            " block_2_depthwise_conv (Depthw  (None, 56, 56, 96)  864         ['block_2_expand_relu[0][0]']    \n",
            " iseConv2D)                                                                                       \n",
            "                                                                                                  \n",
            " block_2_dw_bn (BatchNormalizat  (None, 56, 56, 96)  384         ['block_2_depthwise_conv[0][0]'] \n",
            " ion)                                                                                             \n",
            "                                                                                                  \n",
            " block_2_dw_relu (ReLU)         (None, 56, 56, 96)   0           ['block_2_dw_bn[0][0]']          \n",
            "                                                                                                  \n",
            " block_2_compress (Conv2D)      (None, 56, 56, 24)   2304        ['block_2_dw_relu[0][0]']        \n",
            "                                                                                                  \n",
            " block_2_compress_bn (BatchNorm  (None, 56, 56, 24)  96          ['block_2_compress[0][0]']       \n",
            " alization)                                                                                       \n",
            "                                                                                                  \n",
            " dropout_64 (Dropout)           (None, 56, 56, 24)   0           ['block_2_compress_bn[0][0]']    \n",
            "                                                                                                  \n",
            " block_3_expand (Conv2D)        (None, 56, 56, 144)  3456        ['dropout_64[0][0]']             \n",
            "                                                                                                  \n",
            " block_3_expand_bn (BatchNormal  (None, 56, 56, 144)  576        ['block_3_expand[0][0]']         \n",
            " ization)                                                                                         \n",
            "                                                                                                  \n",
            " block_3_expand_relu (ReLU)     (None, 56, 56, 144)  0           ['block_3_expand_bn[0][0]']      \n",
            "                                                                                                  \n",
            " block_3_depthwise_conv (Depthw  (None, 56, 56, 144)  1296       ['block_3_expand_relu[0][0]']    \n",
            " iseConv2D)                                                                                       \n",
            "                                                                                                  \n",
            " block_3_dw_bn (BatchNormalizat  (None, 56, 56, 144)  576        ['block_3_depthwise_conv[0][0]'] \n",
            " ion)                                                                                             \n",
            "                                                                                                  \n",
            " block_3_dw_relu (ReLU)         (None, 56, 56, 144)  0           ['block_3_dw_bn[0][0]']          \n",
            "                                                                                                  \n",
            " block_3_compress (Conv2D)      (None, 56, 56, 24)   3456        ['block_3_dw_relu[0][0]']        \n",
            "                                                                                                  \n",
            " block_3_compress_bn (BatchNorm  (None, 56, 56, 24)  96          ['block_3_compress[0][0]']       \n",
            " alization)                                                                                       \n",
            "                                                                                                  \n",
            " add_40 (Add)                   (None, 56, 56, 24)   0           ['dropout_64[0][0]',             \n",
            "                                                                  'block_3_compress_bn[0][0]']    \n",
            "                                                                                                  \n",
            " dropout_65 (Dropout)           (None, 56, 56, 24)   0           ['add_40[0][0]']                 \n",
            "                                                                                                  \n",
            " block_4_expand (Conv2D)        (None, 56, 56, 144)  3456        ['dropout_65[0][0]']             \n",
            "                                                                                                  \n",
            " block_4_expand_bn (BatchNormal  (None, 56, 56, 144)  576        ['block_4_expand[0][0]']         \n",
            " ization)                                                                                         \n",
            "                                                                                                  \n",
            " block_4_expand_relu (ReLU)     (None, 56, 56, 144)  0           ['block_4_expand_bn[0][0]']      \n",
            "                                                                                                  \n",
            " block_4_depthwise_conv (Depthw  (None, 28, 28, 144)  1296       ['block_4_expand_relu[0][0]']    \n",
            " iseConv2D)                                                                                       \n",
            "                                                                                                  \n",
            " block_4_dw_bn (BatchNormalizat  (None, 28, 28, 144)  576        ['block_4_depthwise_conv[0][0]'] \n",
            " ion)                                                                                             \n",
            "                                                                                                  \n",
            " block_4_dw_relu (ReLU)         (None, 28, 28, 144)  0           ['block_4_dw_bn[0][0]']          \n",
            "                                                                                                  \n",
            " block_4_compress (Conv2D)      (None, 28, 28, 32)   4608        ['block_4_dw_relu[0][0]']        \n",
            "                                                                                                  \n",
            " block_4_compress_bn (BatchNorm  (None, 28, 28, 32)  128         ['block_4_compress[0][0]']       \n",
            " alization)                                                                                       \n",
            "                                                                                                  \n",
            " dropout_66 (Dropout)           (None, 28, 28, 32)   0           ['block_4_compress_bn[0][0]']    \n",
            "                                                                                                  \n",
            " block_5_expand (Conv2D)        (None, 28, 28, 192)  6144        ['dropout_66[0][0]']             \n",
            "                                                                                                  \n",
            " block_5_expand_bn (BatchNormal  (None, 28, 28, 192)  768        ['block_5_expand[0][0]']         \n",
            " ization)                                                                                         \n",
            "                                                                                                  \n",
            " block_5_expand_relu (ReLU)     (None, 28, 28, 192)  0           ['block_5_expand_bn[0][0]']      \n",
            "                                                                                                  \n",
            " block_5_depthwise_conv (Depthw  (None, 28, 28, 192)  1728       ['block_5_expand_relu[0][0]']    \n",
            " iseConv2D)                                                                                       \n",
            "                                                                                                  \n",
            " block_5_dw_bn (BatchNormalizat  (None, 28, 28, 192)  768        ['block_5_depthwise_conv[0][0]'] \n",
            " ion)                                                                                             \n",
            "                                                                                                  \n",
            " block_5_dw_relu (ReLU)         (None, 28, 28, 192)  0           ['block_5_dw_bn[0][0]']          \n",
            "                                                                                                  \n",
            " block_5_compress (Conv2D)      (None, 28, 28, 32)   6144        ['block_5_dw_relu[0][0]']        \n",
            "                                                                                                  \n",
            " block_5_compress_bn (BatchNorm  (None, 28, 28, 32)  128         ['block_5_compress[0][0]']       \n",
            " alization)                                                                                       \n",
            "                                                                                                  \n",
            " add_41 (Add)                   (None, 28, 28, 32)   0           ['dropout_66[0][0]',             \n",
            "                                                                  'block_5_compress_bn[0][0]']    \n",
            "                                                                                                  \n",
            " dropout_67 (Dropout)           (None, 28, 28, 32)   0           ['add_41[0][0]']                 \n",
            "                                                                                                  \n",
            " block_6_expand (Conv2D)        (None, 28, 28, 192)  6144        ['dropout_67[0][0]']             \n",
            "                                                                                                  \n",
            " block_6_expand_bn (BatchNormal  (None, 28, 28, 192)  768        ['block_6_expand[0][0]']         \n",
            " ization)                                                                                         \n",
            "                                                                                                  \n",
            " block_6_expand_relu (ReLU)     (None, 28, 28, 192)  0           ['block_6_expand_bn[0][0]']      \n",
            "                                                                                                  \n",
            " block_6_depthwise_conv (Depthw  (None, 28, 28, 192)  1728       ['block_6_expand_relu[0][0]']    \n",
            " iseConv2D)                                                                                       \n",
            "                                                                                                  \n",
            " block_6_dw_bn (BatchNormalizat  (None, 28, 28, 192)  768        ['block_6_depthwise_conv[0][0]'] \n",
            " ion)                                                                                             \n",
            "                                                                                                  \n",
            " block_6_dw_relu (ReLU)         (None, 28, 28, 192)  0           ['block_6_dw_bn[0][0]']          \n",
            "                                                                                                  \n",
            " block_6_compress (Conv2D)      (None, 28, 28, 32)   6144        ['block_6_dw_relu[0][0]']        \n",
            "                                                                                                  \n",
            " block_6_compress_bn (BatchNorm  (None, 28, 28, 32)  128         ['block_6_compress[0][0]']       \n",
            " alization)                                                                                       \n",
            "                                                                                                  \n",
            " add_42 (Add)                   (None, 28, 28, 32)   0           ['dropout_67[0][0]',             \n",
            "                                                                  'block_6_compress_bn[0][0]']    \n",
            "                                                                                                  \n",
            " dropout_68 (Dropout)           (None, 28, 28, 32)   0           ['add_42[0][0]']                 \n",
            "                                                                                                  \n",
            " block_7_expand (Conv2D)        (None, 28, 28, 192)  6144        ['dropout_68[0][0]']             \n",
            "                                                                                                  \n",
            " block_7_expand_bn (BatchNormal  (None, 28, 28, 192)  768        ['block_7_expand[0][0]']         \n",
            " ization)                                                                                         \n",
            "                                                                                                  \n",
            " block_7_expand_relu (ReLU)     (None, 28, 28, 192)  0           ['block_7_expand_bn[0][0]']      \n",
            "                                                                                                  \n",
            " block_7_depthwise_conv (Depthw  (None, 14, 14, 192)  1728       ['block_7_expand_relu[0][0]']    \n",
            " iseConv2D)                                                                                       \n",
            "                                                                                                  \n",
            " block_7_dw_bn (BatchNormalizat  (None, 14, 14, 192)  768        ['block_7_depthwise_conv[0][0]'] \n",
            " ion)                                                                                             \n",
            "                                                                                                  \n",
            " block_7_dw_relu (ReLU)         (None, 14, 14, 192)  0           ['block_7_dw_bn[0][0]']          \n",
            "                                                                                                  \n",
            " block_7_compress (Conv2D)      (None, 14, 14, 64)   12288       ['block_7_dw_relu[0][0]']        \n",
            "                                                                                                  \n",
            " block_7_compress_bn (BatchNorm  (None, 14, 14, 64)  256         ['block_7_compress[0][0]']       \n",
            " alization)                                                                                       \n",
            "                                                                                                  \n",
            " dropout_69 (Dropout)           (None, 14, 14, 64)   0           ['block_7_compress_bn[0][0]']    \n",
            "                                                                                                  \n",
            " block_8_expand (Conv2D)        (None, 14, 14, 384)  24576       ['dropout_69[0][0]']             \n",
            "                                                                                                  \n",
            " block_8_expand_bn (BatchNormal  (None, 14, 14, 384)  1536       ['block_8_expand[0][0]']         \n",
            " ization)                                                                                         \n",
            "                                                                                                  \n",
            " block_8_expand_relu (ReLU)     (None, 14, 14, 384)  0           ['block_8_expand_bn[0][0]']      \n",
            "                                                                                                  \n",
            " block_8_depthwise_conv (Depthw  (None, 14, 14, 384)  3456       ['block_8_expand_relu[0][0]']    \n",
            " iseConv2D)                                                                                       \n",
            "                                                                                                  \n",
            " block_8_dw_bn (BatchNormalizat  (None, 14, 14, 384)  1536       ['block_8_depthwise_conv[0][0]'] \n",
            " ion)                                                                                             \n",
            "                                                                                                  \n",
            " block_8_dw_relu (ReLU)         (None, 14, 14, 384)  0           ['block_8_dw_bn[0][0]']          \n",
            "                                                                                                  \n",
            " block_8_compress (Conv2D)      (None, 14, 14, 64)   24576       ['block_8_dw_relu[0][0]']        \n",
            "                                                                                                  \n",
            " block_8_compress_bn (BatchNorm  (None, 14, 14, 64)  256         ['block_8_compress[0][0]']       \n",
            " alization)                                                                                       \n",
            "                                                                                                  \n",
            " add_43 (Add)                   (None, 14, 14, 64)   0           ['dropout_69[0][0]',             \n",
            "                                                                  'block_8_compress_bn[0][0]']    \n",
            "                                                                                                  \n",
            " dropout_70 (Dropout)           (None, 14, 14, 64)   0           ['add_43[0][0]']                 \n",
            "                                                                                                  \n",
            " block_9_expand (Conv2D)        (None, 14, 14, 384)  24576       ['dropout_70[0][0]']             \n",
            "                                                                                                  \n",
            " block_9_expand_bn (BatchNormal  (None, 14, 14, 384)  1536       ['block_9_expand[0][0]']         \n",
            " ization)                                                                                         \n",
            "                                                                                                  \n",
            " block_9_expand_relu (ReLU)     (None, 14, 14, 384)  0           ['block_9_expand_bn[0][0]']      \n",
            "                                                                                                  \n",
            " block_9_depthwise_conv (Depthw  (None, 14, 14, 384)  3456       ['block_9_expand_relu[0][0]']    \n",
            " iseConv2D)                                                                                       \n",
            "                                                                                                  \n",
            " block_9_dw_bn (BatchNormalizat  (None, 14, 14, 384)  1536       ['block_9_depthwise_conv[0][0]'] \n",
            " ion)                                                                                             \n",
            "                                                                                                  \n",
            " block_9_dw_relu (ReLU)         (None, 14, 14, 384)  0           ['block_9_dw_bn[0][0]']          \n",
            "                                                                                                  \n",
            " block_9_compress (Conv2D)      (None, 14, 14, 64)   24576       ['block_9_dw_relu[0][0]']        \n",
            "                                                                                                  \n",
            " block_9_compress_bn (BatchNorm  (None, 14, 14, 64)  256         ['block_9_compress[0][0]']       \n",
            " alization)                                                                                       \n",
            "                                                                                                  \n",
            " add_44 (Add)                   (None, 14, 14, 64)   0           ['dropout_70[0][0]',             \n",
            "                                                                  'block_9_compress_bn[0][0]']    \n",
            "                                                                                                  \n",
            " dropout_71 (Dropout)           (None, 14, 14, 64)   0           ['add_44[0][0]']                 \n",
            "                                                                                                  \n",
            " block_10_expand (Conv2D)       (None, 14, 14, 384)  24576       ['dropout_71[0][0]']             \n",
            "                                                                                                  \n",
            " block_10_expand_bn (BatchNorma  (None, 14, 14, 384)  1536       ['block_10_expand[0][0]']        \n",
            " lization)                                                                                        \n",
            "                                                                                                  \n",
            " block_10_expand_relu (ReLU)    (None, 14, 14, 384)  0           ['block_10_expand_bn[0][0]']     \n",
            "                                                                                                  \n",
            " block_10_depthwise_conv (Depth  (None, 14, 14, 384)  3456       ['block_10_expand_relu[0][0]']   \n",
            " wiseConv2D)                                                                                      \n",
            "                                                                                                  \n",
            " block_10_dw_bn (BatchNormaliza  (None, 14, 14, 384)  1536       ['block_10_depthwise_conv[0][0]']\n",
            " tion)                                                                                            \n",
            "                                                                                                  \n",
            " block_10_dw_relu (ReLU)        (None, 14, 14, 384)  0           ['block_10_dw_bn[0][0]']         \n",
            "                                                                                                  \n",
            " block_10_compress (Conv2D)     (None, 14, 14, 64)   24576       ['block_10_dw_relu[0][0]']       \n",
            "                                                                                                  \n",
            " block_10_compress_bn (BatchNor  (None, 14, 14, 64)  256         ['block_10_compress[0][0]']      \n",
            " malization)                                                                                      \n",
            "                                                                                                  \n",
            " add_45 (Add)                   (None, 14, 14, 64)   0           ['dropout_71[0][0]',             \n",
            "                                                                  'block_10_compress_bn[0][0]']   \n",
            "                                                                                                  \n",
            " dropout_72 (Dropout)           (None, 14, 14, 64)   0           ['add_45[0][0]']                 \n",
            "                                                                                                  \n",
            " block_11_expand (Conv2D)       (None, 14, 14, 384)  24576       ['dropout_72[0][0]']             \n",
            "                                                                                                  \n",
            " block_11_expand_bn (BatchNorma  (None, 14, 14, 384)  1536       ['block_11_expand[0][0]']        \n",
            " lization)                                                                                        \n",
            "                                                                                                  \n",
            " block_11_expand_relu (ReLU)    (None, 14, 14, 384)  0           ['block_11_expand_bn[0][0]']     \n",
            "                                                                                                  \n",
            " block_11_depthwise_conv (Depth  (None, 14, 14, 384)  3456       ['block_11_expand_relu[0][0]']   \n",
            " wiseConv2D)                                                                                      \n",
            "                                                                                                  \n",
            " block_11_dw_bn (BatchNormaliza  (None, 14, 14, 384)  1536       ['block_11_depthwise_conv[0][0]']\n",
            " tion)                                                                                            \n",
            "                                                                                                  \n",
            " block_11_dw_relu (ReLU)        (None, 14, 14, 384)  0           ['block_11_dw_bn[0][0]']         \n",
            "                                                                                                  \n",
            " block_11_compress (Conv2D)     (None, 14, 14, 96)   36864       ['block_11_dw_relu[0][0]']       \n",
            "                                                                                                  \n",
            " block_11_compress_bn (BatchNor  (None, 14, 14, 96)  384         ['block_11_compress[0][0]']      \n",
            " malization)                                                                                      \n",
            "                                                                                                  \n",
            " dropout_73 (Dropout)           (None, 14, 14, 96)   0           ['block_11_compress_bn[0][0]']   \n",
            "                                                                                                  \n",
            " block_12_expand (Conv2D)       (None, 14, 14, 576)  55296       ['dropout_73[0][0]']             \n",
            "                                                                                                  \n",
            " block_12_expand_bn (BatchNorma  (None, 14, 14, 576)  2304       ['block_12_expand[0][0]']        \n",
            " lization)                                                                                        \n",
            "                                                                                                  \n",
            " block_12_expand_relu (ReLU)    (None, 14, 14, 576)  0           ['block_12_expand_bn[0][0]']     \n",
            "                                                                                                  \n",
            " block_12_depthwise_conv (Depth  (None, 14, 14, 576)  5184       ['block_12_expand_relu[0][0]']   \n",
            " wiseConv2D)                                                                                      \n",
            "                                                                                                  \n",
            " block_12_dw_bn (BatchNormaliza  (None, 14, 14, 576)  2304       ['block_12_depthwise_conv[0][0]']\n",
            " tion)                                                                                            \n",
            "                                                                                                  \n",
            " block_12_dw_relu (ReLU)        (None, 14, 14, 576)  0           ['block_12_dw_bn[0][0]']         \n",
            "                                                                                                  \n",
            " block_12_compress (Conv2D)     (None, 14, 14, 96)   55296       ['block_12_dw_relu[0][0]']       \n",
            "                                                                                                  \n",
            " block_12_compress_bn (BatchNor  (None, 14, 14, 96)  384         ['block_12_compress[0][0]']      \n",
            " malization)                                                                                      \n",
            "                                                                                                  \n",
            " add_46 (Add)                   (None, 14, 14, 96)   0           ['dropout_73[0][0]',             \n",
            "                                                                  'block_12_compress_bn[0][0]']   \n",
            "                                                                                                  \n",
            " dropout_74 (Dropout)           (None, 14, 14, 96)   0           ['add_46[0][0]']                 \n",
            "                                                                                                  \n",
            " block_13_expand (Conv2D)       (None, 14, 14, 576)  55296       ['dropout_74[0][0]']             \n",
            "                                                                                                  \n",
            " block_13_expand_bn (BatchNorma  (None, 14, 14, 576)  2304       ['block_13_expand[0][0]']        \n",
            " lization)                                                                                        \n",
            "                                                                                                  \n",
            " block_13_expand_relu (ReLU)    (None, 14, 14, 576)  0           ['block_13_expand_bn[0][0]']     \n",
            "                                                                                                  \n",
            " block_13_depthwise_conv (Depth  (None, 14, 14, 576)  5184       ['block_13_expand_relu[0][0]']   \n",
            " wiseConv2D)                                                                                      \n",
            "                                                                                                  \n",
            " block_13_dw_bn (BatchNormaliza  (None, 14, 14, 576)  2304       ['block_13_depthwise_conv[0][0]']\n",
            " tion)                                                                                            \n",
            "                                                                                                  \n",
            " block_13_dw_relu (ReLU)        (None, 14, 14, 576)  0           ['block_13_dw_bn[0][0]']         \n",
            "                                                                                                  \n",
            " block_13_compress (Conv2D)     (None, 14, 14, 96)   55296       ['block_13_dw_relu[0][0]']       \n",
            "                                                                                                  \n",
            " block_13_compress_bn (BatchNor  (None, 14, 14, 96)  384         ['block_13_compress[0][0]']      \n",
            " malization)                                                                                      \n",
            "                                                                                                  \n",
            " add_47 (Add)                   (None, 14, 14, 96)   0           ['dropout_74[0][0]',             \n",
            "                                                                  'block_13_compress_bn[0][0]']   \n",
            "                                                                                                  \n",
            " dropout_75 (Dropout)           (None, 14, 14, 96)   0           ['add_47[0][0]']                 \n",
            "                                                                                                  \n",
            " block_14_expand (Conv2D)       (None, 14, 14, 576)  55296       ['dropout_75[0][0]']             \n",
            "                                                                                                  \n",
            " block_14_expand_bn (BatchNorma  (None, 14, 14, 576)  2304       ['block_14_expand[0][0]']        \n",
            " lization)                                                                                        \n",
            "                                                                                                  \n",
            " block_14_expand_relu (ReLU)    (None, 14, 14, 576)  0           ['block_14_expand_bn[0][0]']     \n",
            "                                                                                                  \n",
            " block_14_depthwise_conv (Depth  (None, 7, 7, 576)   5184        ['block_14_expand_relu[0][0]']   \n",
            " wiseConv2D)                                                                                      \n",
            "                                                                                                  \n",
            " block_14_dw_bn (BatchNormaliza  (None, 7, 7, 576)   2304        ['block_14_depthwise_conv[0][0]']\n",
            " tion)                                                                                            \n",
            "                                                                                                  \n",
            " block_14_dw_relu (ReLU)        (None, 7, 7, 576)    0           ['block_14_dw_bn[0][0]']         \n",
            "                                                                                                  \n",
            " block_14_compress (Conv2D)     (None, 7, 7, 160)    92160       ['block_14_dw_relu[0][0]']       \n",
            "                                                                                                  \n",
            " block_14_compress_bn (BatchNor  (None, 7, 7, 160)   640         ['block_14_compress[0][0]']      \n",
            " malization)                                                                                      \n",
            "                                                                                                  \n",
            " dropout_76 (Dropout)           (None, 7, 7, 160)    0           ['block_14_compress_bn[0][0]']   \n",
            "                                                                                                  \n",
            " block_15_expand (Conv2D)       (None, 7, 7, 960)    153600      ['dropout_76[0][0]']             \n",
            "                                                                                                  \n",
            " block_15_expand_bn (BatchNorma  (None, 7, 7, 960)   3840        ['block_15_expand[0][0]']        \n",
            " lization)                                                                                        \n",
            "                                                                                                  \n",
            " block_15_expand_relu (ReLU)    (None, 7, 7, 960)    0           ['block_15_expand_bn[0][0]']     \n",
            "                                                                                                  \n",
            " block_15_depthwise_conv (Depth  (None, 7, 7, 960)   8640        ['block_15_expand_relu[0][0]']   \n",
            " wiseConv2D)                                                                                      \n",
            "                                                                                                  \n",
            " block_15_dw_bn (BatchNormaliza  (None, 7, 7, 960)   3840        ['block_15_depthwise_conv[0][0]']\n",
            " tion)                                                                                            \n",
            "                                                                                                  \n",
            " block_15_dw_relu (ReLU)        (None, 7, 7, 960)    0           ['block_15_dw_bn[0][0]']         \n",
            "                                                                                                  \n",
            " block_15_compress (Conv2D)     (None, 7, 7, 160)    153600      ['block_15_dw_relu[0][0]']       \n",
            "                                                                                                  \n",
            " block_15_compress_bn (BatchNor  (None, 7, 7, 160)   640         ['block_15_compress[0][0]']      \n",
            " malization)                                                                                      \n",
            "                                                                                                  \n",
            " add_48 (Add)                   (None, 7, 7, 160)    0           ['dropout_76[0][0]',             \n",
            "                                                                  'block_15_compress_bn[0][0]']   \n",
            "                                                                                                  \n",
            " dropout_77 (Dropout)           (None, 7, 7, 160)    0           ['add_48[0][0]']                 \n",
            "                                                                                                  \n",
            " block_16_expand (Conv2D)       (None, 7, 7, 960)    153600      ['dropout_77[0][0]']             \n",
            "                                                                                                  \n",
            " block_16_expand_bn (BatchNorma  (None, 7, 7, 960)   3840        ['block_16_expand[0][0]']        \n",
            " lization)                                                                                        \n",
            "                                                                                                  \n",
            " block_16_expand_relu (ReLU)    (None, 7, 7, 960)    0           ['block_16_expand_bn[0][0]']     \n",
            "                                                                                                  \n",
            " block_16_depthwise_conv (Depth  (None, 7, 7, 960)   8640        ['block_16_expand_relu[0][0]']   \n",
            " wiseConv2D)                                                                                      \n",
            "                                                                                                  \n",
            " block_16_dw_bn (BatchNormaliza  (None, 7, 7, 960)   3840        ['block_16_depthwise_conv[0][0]']\n",
            " tion)                                                                                            \n",
            "                                                                                                  \n",
            " block_16_dw_relu (ReLU)        (None, 7, 7, 960)    0           ['block_16_dw_bn[0][0]']         \n",
            "                                                                                                  \n",
            " block_16_compress (Conv2D)     (None, 7, 7, 160)    153600      ['block_16_dw_relu[0][0]']       \n",
            "                                                                                                  \n",
            " block_16_compress_bn (BatchNor  (None, 7, 7, 160)   640         ['block_16_compress[0][0]']      \n",
            " malization)                                                                                      \n",
            "                                                                                                  \n",
            " add_49 (Add)                   (None, 7, 7, 160)    0           ['dropout_77[0][0]',             \n",
            "                                                                  'block_16_compress_bn[0][0]']   \n",
            "                                                                                                  \n",
            " dropout_78 (Dropout)           (None, 7, 7, 160)    0           ['add_49[0][0]']                 \n",
            "                                                                                                  \n",
            " block_17_expand (Conv2D)       (None, 7, 7, 960)    153600      ['dropout_78[0][0]']             \n",
            "                                                                                                  \n",
            " block_17_expand_bn (BatchNorma  (None, 7, 7, 960)   3840        ['block_17_expand[0][0]']        \n",
            " lization)                                                                                        \n",
            "                                                                                                  \n",
            " block_17_expand_relu (ReLU)    (None, 7, 7, 960)    0           ['block_17_expand_bn[0][0]']     \n",
            "                                                                                                  \n",
            " block_17_depthwise_conv (Depth  (None, 7, 7, 960)   8640        ['block_17_expand_relu[0][0]']   \n",
            " wiseConv2D)                                                                                      \n",
            "                                                                                                  \n",
            " block_17_dw_bn (BatchNormaliza  (None, 7, 7, 960)   3840        ['block_17_depthwise_conv[0][0]']\n",
            " tion)                                                                                            \n",
            "                                                                                                  \n",
            " block_17_dw_relu (ReLU)        (None, 7, 7, 960)    0           ['block_17_dw_bn[0][0]']         \n",
            "                                                                                                  \n",
            " block_17_compress (Conv2D)     (None, 7, 7, 320)    307200      ['block_17_dw_relu[0][0]']       \n",
            "                                                                                                  \n",
            " block_17_compress_bn (BatchNor  (None, 7, 7, 320)   1280        ['block_17_compress[0][0]']      \n",
            " malization)                                                                                      \n",
            "                                                                                                  \n",
            " dropout_79 (Dropout)           (None, 7, 7, 320)    0           ['block_17_compress_bn[0][0]']   \n",
            "                                                                                                  \n",
            " last_conv (Conv2D)             (None, 7, 7, 1280)   409600      ['dropout_79[0][0]']             \n",
            "                                                                                                  \n",
            " last_bn (BatchNormalization)   (None, 7, 7, 1280)   5120        ['last_conv[0][0]']              \n",
            "                                                                                                  \n",
            " last_relu (ReLU)               (None, 7, 7, 1280)   0           ['last_bn[0][0]']                \n",
            "                                                                                                  \n",
            " global_average_pool (GlobalAve  (None, 1280)        0           ['last_relu[0][0]']              \n",
            " ragePooling2D)                                                                                   \n",
            "                                                                                                  \n",
            " dense_13 (Dense)               (None, 5)            6405        ['global_average_pool[0][0]']    \n",
            "                                                                                                  \n",
            "==================================================================================================\n",
            "Total params: 2,264,389\n",
            "Trainable params: 2,230,277\n",
            "Non-trainable params: 34,112\n",
            "__________________________________________________________________________________________________\n",
            "Epoch 1/60\n",
            "79/79 [==============================] - 549s 7s/step - loss: 1.6924 - accuracy: 0.2284 - val_loss: 1.6140 - val_accuracy: 0.2000\n",
            "Epoch 2/60\n"
          ]
        }
      ],
      "source": [
        "#model = tf.keras.applications.MobileNetV2() # Pre - trained model\n",
        "\n",
        "#### MobileNetV2 모델 새로 만들기\n",
        "# model = tf.keras.models.Sequential()\n",
        "# model.add(layers.Input(shape=(48,48,3)))\n",
        "# model.add(layers.Conv2D(32, kernel_size=3, strides=(2, 2), padding='valid', use_bias=False, name='Conv1'));\n",
        "# model.add(layers.BatchNormalization(name='bn_Conv1'))\n",
        "# model.add(layers.ReLU(6, name='Conv1_relu'))\n",
        "# model.add(layers.DepthwiseConv2D(kernel_size=3, strides=1, activation=None, use_bias=False, padding='same', name='expanded_conv_depthwise'))\n",
        "# model.add(layers.BatchNormalization(axis=-1, epsilon=0.001, momentum=0.99, name='expanded_conv_depthwise_BN'))\n",
        "\n",
        "\n",
        "# final_output = layers.Dense(128)(model.layers[-1].output) # adding new layer, after the output of global pooling layer\n",
        "# final_output = layers.Activation('relu')(final_output) # activation function\n",
        "# final_output = layers.Dense(64)(final_output)\n",
        "# final_output = layers.Activation('relu')(final_output)\n",
        "# final_output = layers.Dense(5, activation='softmax')(final_output) # output: 5 (5-class emotion)\n",
        "\n",
        "# base_input = model.layers[0].input\n",
        "# new_model = keras.Model(inputs = base_input, outputs = final_output)\n",
        "\n",
        "#new_model.build()\n",
        "\n",
        "# model = Sequential([\n",
        "#     Conv2D(32, kernel_size=3, strides=(2, 2), padding='same', use_bias = False, input_shape=(48, 48, 3), name='Conv1'),\n",
        "#     BatchNormalization(axis=-1, epsilon=0.001, momentum=0.99, name='bn_Conv1'),\n",
        "#     ReLU(name='Conv2_relu'),\n",
        "#     DepthwiseConv2D(kernel_size=3, name='expanded_conv_depthwise'),\n",
        "#     BatchNormalization(name='expanded_conv_depthwise_BN'),\n",
        "#     ReLU(max_value=6,name='expanded_conv_depthwise_relu'),\n",
        "#     Conv2D(filters=32, kernel_size=3, strides=2, name='expanded_conv_project'),\n",
        "#     BatchNormalization(name='expanded_conv_project_BN'),\n",
        "\n",
        "#     Conv2D(filters=64, kernel_size=3, name='block_1_expand'),\n",
        "#     BatchNormalization(name='block_1_expand_BN'),\n",
        "#     ReLU(name='block_1_expand_relu'),\n",
        "#     ZeroPadding2D(name='block_1_pad'),\n",
        "#     DepthwiseConv2D(kernel_size=3, name='block_1_depthwise'),\n",
        "#     BatchNormalization(name='block_1_depthwise_BN'),\n",
        "#     ReLU(name='block_1_depthwise_relu'), \n",
        "#     Conv2D(filters=64, kernel_size=3, name='block_1_project'),\n",
        "#     BatchNormalization(name='block_1_project_BN'),\n",
        "\n",
        "#     Conv2D(filters=128, kernel_size=3, name='block_2_expand'),\n",
        "#     BatchNormalization(name='block_2_expand_BN'),\n",
        "#     ReLU(name='block_2_expand_relu'),\n",
        "#     DepthwiseConv2D(kernel_size=3, name='block_2_depthwise'),\n",
        "#     BatchNormalization(name='block_2_depthwise_BN'),\n",
        "#     ReLU(name='block_2_depthwise_relu'),\n",
        "#     Conv2D(filters=128, kernel_size=3, name='block_2_project'),\n",
        "#     BatchNormalization(name='block_2_project_BN'),\n",
        "#     Add(name='block_2_add'),\n",
        "\n",
        "#     Conv2D(filters=128, kernel_size=3, name='block_3_expand'),\n",
        "#     BatchNormalization(name='block_3_expand_BN'),\n",
        "#     ReLU(name='block_3_expand_relu'),\n",
        "#     ZeroPadding2D(name='block_3_pad'),\n",
        "#     DepthwiseConv2D(kernel_size=3, name='block_3_depthwise'),\n",
        "#     BatchNormalization(name='block_3_depthwise_BN'),\n",
        "#     ReLU(name='block_3_depthwise_relu'),\n",
        "#     Conv2D(filters=128, kernel_size=3, name='block_3_project'),\n",
        "#     BatchNormalization(name='block_3_project_BN'),\n",
        "\n",
        "#     Conv2D(filters=256, kernel_size=3, name='Conv_1'),\n",
        "#     BatchNormalization(name='Conv_1_bn'),\n",
        "#     ReLU(name='out_relu'),\n",
        "#     GlobalAveragePooling2D(name='global_average_pooling2d'),\n",
        "#     Dense(128, name='final_layer_1'),\n",
        "#     ReLU(name='final_layer_2'),\n",
        "#     Dense(64, name='final_layer_3'),\n",
        "#     ReLU(name='final_layer_4'),\n",
        "#     Dense(5, activation='softmax', name='predictions') # 5-class emotion\n",
        "#     ])\n",
        "\n",
        "def expansion_block(x,t,filters,block_id):\n",
        "    prefix = 'block_{}_'.format(block_id)\n",
        "    total_filters = t*filters\n",
        "    x = Conv2D(total_filters,1,padding='same',use_bias=False, name =    prefix +'expand')(x)\n",
        "    x = BatchNormalization(name=prefix +'expand_bn')(x)\n",
        "    x = ReLU(6,name = prefix +'expand_relu')(x)\n",
        "    return x\n",
        "def depthwise_block(x,stride,block_id):\n",
        "    prefix = 'block_{}_'.format(block_id)\n",
        "    x = DepthwiseConv2D(3,strides=(stride,stride),padding ='same', use_bias = False, name = prefix + 'depthwise_conv')(x)\n",
        "    x = BatchNormalization(name=prefix +'dw_bn')(x)\n",
        "    x = ReLU(6,name = prefix +'dw_relu')(x)\n",
        "    return x\n",
        "def projection_block(x,out_channels,block_id):\n",
        "    prefix = 'block_{}_'.format(block_id)\n",
        "    x = Conv2D(filters=out_channels,kernel_size = 1,   padding='same',use_bias=False,name= prefix + 'compress')(x)\n",
        "    x = BatchNormalization(name=prefix +'compress_bn')(x)\n",
        "    return x\n",
        "\n",
        "def Bottleneck(x,t,filters, out_channels,stride,block_id):\n",
        "    y = expansion_block(x,t,filters,block_id)\n",
        "    y = depthwise_block(y,stride,block_id)\n",
        "    y = projection_block(y, out_channels,block_id)\n",
        "    if y.shape[-1]==x.shape[-1]:\n",
        "       y = add([x,y])\n",
        "    return y\n",
        "\n",
        "def MobileNetV2(input_shape = (224,224,3), n_classes=5):\n",
        "    input = Input (input_shape)\n",
        "    x = Conv2D(32,3,strides=(2,2),padding='same', use_bias=False)(input)\n",
        "    x = BatchNormalization(name='conv1_bn')(x)\n",
        "    x = ReLU(6, name='conv1_relu')(x)\n",
        "    # 17 Bottlenecks\n",
        "    x = depthwise_block(x,stride=1,block_id=1)\n",
        "    x = projection_block(x, out_channels=16,block_id=1)\n",
        "    x = Bottleneck(x, t = 6, filters = x.shape[-1], out_channels = 24, stride = 2,block_id = 2)\n",
        "    x = Dropout(rate=0.3)(x)\n",
        "    x = Bottleneck(x, t = 6, filters = x.shape[-1], out_channels = 24, stride = 1,block_id = 3)\n",
        "    x = Dropout(rate=0.3)(x)\n",
        "    x = Bottleneck(x, t = 6, filters = x.shape[-1], out_channels = 32, stride = 2,block_id = 4)\n",
        "    x = Dropout(rate=0.3)(x)\n",
        "    x = Bottleneck(x, t = 6, filters = x.shape[-1], out_channels = 32, stride = 1,block_id = 5)\n",
        "    x = Dropout(rate=0.3)(x)\n",
        "    x = Bottleneck(x, t = 6, filters = x.shape[-1], out_channels = 32, stride = 1,block_id = 6)\n",
        "    x = Dropout(rate=0.3)(x)\n",
        "    x = Bottleneck(x, t = 6, filters = x.shape[-1], out_channels = 64, stride = 2,block_id = 7)\n",
        "    x = Dropout(rate=0.3)(x)\n",
        "    x = Bottleneck(x, t = 6, filters = x.shape[-1], out_channels = 64, stride = 1,block_id = 8)\n",
        "    x = Dropout(rate=0.3)(x)\n",
        "    x = Bottleneck(x, t = 6, filters = x.shape[-1], out_channels = 64, stride = 1,block_id = 9)\n",
        "    x = Dropout(rate=0.3)(x)\n",
        "    x = Bottleneck(x, t = 6, filters = x.shape[-1], out_channels = 64, stride = 1,block_id = 10)\n",
        "    x = Dropout(rate=0.3)(x)\n",
        "    x = Bottleneck(x, t = 6, filters = x.shape[-1], out_channels = 96, stride = 1,block_id = 11)\n",
        "    x = Dropout(rate=0.3)(x)\n",
        "    x = Bottleneck(x, t = 6, filters = x.shape[-1], out_channels = 96, stride = 1,block_id = 12)\n",
        "    x = Dropout(rate=0.3)(x)\n",
        "    x = Bottleneck(x, t = 6, filters = x.shape[-1], out_channels = 96, stride = 1,block_id = 13)\n",
        "    x = Dropout(rate=0.3)(x)\n",
        "    x = Bottleneck(x, t = 6, filters = x.shape[-1], out_channels = 160, stride = 2,block_id = 14)\n",
        "    x = Dropout(rate=0.3)(x)\n",
        "    x = Bottleneck(x, t = 6, filters = x.shape[-1], out_channels = 160, stride = 1,block_id = 15)\n",
        "    x = Dropout(rate=0.3)(x)\n",
        "    x = Bottleneck(x, t = 6, filters = x.shape[-1], out_channels = 160, stride = 1,block_id = 16)\n",
        "    x = Dropout(rate=0.3)(x)\n",
        "    x = Bottleneck(x, t = 6, filters = x.shape[-1], out_channels = 320, stride = 1,block_id = 17)\n",
        "    x = Dropout(rate=0.3)(x)\n",
        "    x = Conv2D(filters = 1280,kernel_size = 1,padding='same',use_bias=False, name = 'last_conv')(x)\n",
        "    x = BatchNormalization(name='last_bn')(x)\n",
        "    x = ReLU(6,name='last_relu')(x)\n",
        "    x = GlobalAveragePooling2D(name='global_average_pool')(x)\n",
        "    output = Dense(n_classes,activation='softmax')(x)\n",
        "    model = keras.Model(input, output)\n",
        "    return model\n",
        "\n",
        "model = MobileNetV2()\n",
        "model.summary()\n",
        "\n",
        "model.compile(loss=\"sparse_categorical_crossentropy\", optimizer = \"adam\", metrics = [\"accuracy\"])\n",
        "result = model.fit(X_training, Y_training, validation_data=(X_validation, Y_validation), epochs=60, batch_size=32, shuffle=True)"
      ],
      "id": "PsE8RjBuV38Y"
    },
    {
      "cell_type": "code",
      "execution_count": 25,
      "metadata": {
        "id": "xVkEdPeNgziQ",
        "colab": {
          "base_uri": "https://localhost:8080/",
          "height": 279
        },
        "outputId": "8fbf7f62-2d9d-4b00-8cde-52b000836a54"
      },
      "outputs": [
        {
          "output_type": "display_data",
          "data": {
            "text/plain": [
              "<Figure size 432x288 with 1 Axes>"
            ],
            "image/png": "[encoded data removed]"
          },
          "metadata": {
            "needs_background": "light"
          }
        }
      ],
      "source": [
        "import matplotlib.pyplot as plt\n",
        "\n",
        "# summarize history for accuracy\n",
        "plt.plot(result.history['acc'])\n",
        "plt.plot(result.history['val_acc'])\n",
        "plt.title('model accuracy')\n",
        "plt.ylabel('accuracy')\n",
        "plt.xlabel('epoch')\n",
        "plt.legend(['train', 'test'], loc='upper left')\n",
        "plt.show()\n",
        "# summarize history for loss\n",
        "plt.plot(result.history['loss'])\n",
        "plt.plot(result.history['val_loss'])\n",
        "plt.title('model loss')\n",
        "plt.ylabel('loss')\n",
        "plt.xlabel('epoch')\n",
        "plt.legend(['train', 'test'], loc='upper left')\n",
        "plt.show()"
      ],
      "id": "xVkEdPeNgziQ"
    }
  ],
  "metadata": {
    "colab": {
      "provenance": [],
      "include_colab_link": true
    },
    "kernelspec": {
      "display_name": "Python 3 (ipykernel)",
      "language": "python",
      "name": "python3"
    },
    "language_info": {
      "codemirror_mode": {
        "name": "ipython",
        "version": 3
      },
      "file_extension": ".py",
      "mimetype": "text/x-python",
      "name": "python",
      "nbconvert_exporter": "python",
      "pygments_lexer": "ipython3",
      "version": "3.9.12"
    }
  },
  "nbformat": 4,
  "nbformat_minor": 5
}